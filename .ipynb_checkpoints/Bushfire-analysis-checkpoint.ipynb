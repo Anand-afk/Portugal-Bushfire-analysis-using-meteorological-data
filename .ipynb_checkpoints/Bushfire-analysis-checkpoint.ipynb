{
 "cells": [
  {
   "cell_type": "markdown",
   "metadata": {},
   "source": [
    "# Bushfire Analysis using Meteorological Data\n",
    "\n",
    "\n",
    "Programming Language: R 3.5.1 in Jupyter Notebook\n",
    "\n",
    "R Libraries used:\n",
    "- psych - discribing the data\n",
    "- ggplot2 - for plotting\n",
    "- MASS - applied statistics\n",
    "- freqdist - for frequency table\n",
    "- rcompanion - for tukeys and coxbox transformation\n",
    "- glmnet - For Lasso model\n",
    "- leaps - for using subset genratation for backward selection\n",
    "- data.table - for data tranformation\n",
    "- mltools - for one hot encoding\n",
    "- caret - for cross validation and step function\n",
    "- glmnet - for penalised regression\n",
    "- dplyr - for data mutation"
   ]
  },
  {
   "cell_type": "markdown",
   "metadata": {},
   "source": [
    "## Table of Contents\n",
    "\n",
    "* [Introduction](#sec_1)\n",
    "* [Data Exploration](#sec_2)\n",
    "* [Model Development](#sec_3)\n",
    "* [Model Comparison](#sec_4)\n",
    "* [Variable Identification and Explanation](#sec_5)\n",
    "* [Conclusion](#sec_6)\n",
    "* [References](#sec_7)"
   ]
  },
  {
   "cell_type": "markdown",
   "metadata": {},
   "source": [
    "## 1. Introduction <a class=\"anchor\" id=\"sec_1\"></a>"
   ]
  },
  {
   "cell_type": "markdown",
   "metadata": {},
   "source": [
    "- The following ipynb file contains data analysis of data which was collected from northeast region of Portugal between January 2000 and December 2003, which is 4 years worth of data. The dataset given contains 517 fire instances and 12 attributes which includes spatial coordinates of the map, month, day, FFWI indices and other meterological data. Here the target variable will be the area.\n",
    "- The target variable to be predicted is highly imbalanced, it is easily evident by just eyeballing the data. \n",
    "- In the below ipynb file, you will find the exploratory data analysis, followed by different models and their comparison."
   ]
  },
  {
   "cell_type": "markdown",
   "metadata": {},
   "source": [
    "### Loading libraries"
   ]
  },
  {
   "cell_type": "code",
   "execution_count": 1,
   "metadata": {},
   "outputs": [
    {
     "name": "stderr",
     "output_type": "stream",
     "text": [
      "Warning message:\n",
      "\"package 'psych' was built under R version 3.6.3\"Warning message:\n",
      "\"package 'ggplot2' was built under R version 3.6.2\"\n",
      "Attaching package: 'ggplot2'\n",
      "\n",
      "The following objects are masked from 'package:psych':\n",
      "\n",
      "    %+%, alpha\n",
      "\n",
      "Warning message:\n",
      "\"package 'MASS' was built under R version 3.6.3\"Warning message:\n",
      "\"package 'rcompanion' was built under R version 3.6.3\"\n",
      "Attaching package: 'rcompanion'\n",
      "\n",
      "The following object is masked from 'package:psych':\n",
      "\n",
      "    phi\n",
      "\n",
      "Warning message:\n",
      "\"package 'GGally' was built under R version 3.6.2\"Registered S3 method overwritten by 'GGally':\n",
      "  method from   \n",
      "  +.gg   ggplot2\n",
      "Warning message:\n",
      "\"package 'glmnet' was built under R version 3.6.3\"Loading required package: Matrix\n",
      "Warning message:\n",
      "\"package 'Matrix' was built under R version 3.6.3\"Loaded glmnet 3.0-2\n",
      "\n",
      "Warning message:\n",
      "\"package 'leaps' was built under R version 3.6.3\"Warning message:\n",
      "\"package 'data.table' was built under R version 3.6.2\"Warning message:\n",
      "\"package 'mltools' was built under R version 3.6.3\"Loading required package: lattice\n",
      "Warning message:\n",
      "\"package 'lattice' was built under R version 3.6.3\"Warning message:\n",
      "\"package 'dplyr' was built under R version 3.6.2\"\n",
      "Attaching package: 'dplyr'\n",
      "\n",
      "The following objects are masked from 'package:data.table':\n",
      "\n",
      "    between, first, last\n",
      "\n",
      "The following object is masked from 'package:GGally':\n",
      "\n",
      "    nasa\n",
      "\n",
      "The following object is masked from 'package:MASS':\n",
      "\n",
      "    select\n",
      "\n",
      "The following objects are masked from 'package:stats':\n",
      "\n",
      "    filter, lag\n",
      "\n",
      "The following objects are masked from 'package:base':\n",
      "\n",
      "    intersect, setdiff, setequal, union\n",
      "\n"
     ]
    }
   ],
   "source": [
    "# loading required library\n",
    "library(\"psych\") \n",
    "library(\"ggplot2\")\n",
    "library(\"MASS\") \n",
    "library(\"freqdist\")\n",
    "library(\"rcompanion\")\n",
    "library(\"GGally\")\n",
    "library(\"glmnet\") \n",
    "library(\"leaps\") \n",
    "library(\"data.table\")\n",
    "library(\"mltools\")\n",
    "library(\"caret\")\n",
    "library(\"glmnet\")\n",
    "library(\"dplyr\")"
   ]
  },
  {
   "cell_type": "markdown",
   "metadata": {},
   "source": [
    "## 2. Data Exploration<a class=\"anchor\" id=\"sec_2\"></a>"
   ]
  },
  {
   "cell_type": "markdown",
   "metadata": {},
   "source": [
    "###  Overview of the Training Dataset"
   ]
  },
  {
   "cell_type": "code",
   "execution_count": 2,
   "metadata": {},
   "outputs": [
    {
     "name": "stdout",
     "output_type": "stream",
     "text": [
      "The forestfires dataset has  517 rows and 13 columns'data.frame':\t517 obs. of  13 variables:\n",
      " $ X    : int  7 7 7 8 8 8 8 8 8 7 ...\n",
      " $ Y    : int  5 4 4 6 6 6 6 6 6 5 ...\n",
      " $ month: Factor w/ 12 levels \"apr\",\"aug\",\"dec\",..: 8 11 11 8 8 2 2 2 12 12 ...\n",
      " $ day  : Factor w/ 7 levels \"fri\",\"mon\",\"sat\",..: 1 6 3 1 4 4 2 2 6 3 ...\n",
      " $ FFMC : num  86.2 90.6 90.6 91.7 89.3 92.3 92.3 91.5 91 92.5 ...\n",
      " $ DMC  : num  26.2 35.4 43.7 33.3 51.3 ...\n",
      " $ DC   : num  94.3 669.1 686.9 77.5 102.2 ...\n",
      " $ ISI  : num  5.1 6.7 6.7 9 9.6 14.7 8.5 10.7 7 7.1 ...\n",
      " $ temp : num  8.2 18 14.6 8.3 11.4 22.2 24.1 8 13.1 22.8 ...\n",
      " $ RH   : int  51 33 33 97 99 29 27 86 63 40 ...\n",
      " $ wind : num  6.7 0.9 1.3 4 1.8 5.4 3.1 2.2 5.4 4 ...\n",
      " $ rain : num  0 0 0 0.2 0 0 0 0 0 0 ...\n",
      " $ area : num  0 0 0 0 0 0 0 0 0 0 ...\n"
     ]
    },
    {
     "data": {
      "text/html": [
       "<table>\n",
       "<thead><tr><th></th><th scope=col>vars</th><th scope=col>n</th><th scope=col>mean</th><th scope=col>sd</th><th scope=col>median</th><th scope=col>trimmed</th><th scope=col>mad</th><th scope=col>min</th><th scope=col>max</th><th scope=col>range</th><th scope=col>skew</th><th scope=col>kurtosis</th><th scope=col>se</th></tr></thead>\n",
       "<tbody>\n",
       "\t<tr><th scope=row>X</th><td> 1          </td><td>517         </td><td>  4.66924565</td><td>  2.3137778 </td><td>  4.00      </td><td>  4.672289  </td><td>  2.965200  </td><td> 1.0        </td><td>   9.00     </td><td>   8.00     </td><td> 0.03603577 </td><td> -1.1796691 </td><td> 0.10175983 </td></tr>\n",
       "\t<tr><th scope=row>Y</th><td> 2          </td><td>517         </td><td>  4.29980658</td><td>  1.2299004 </td><td>  4.00      </td><td>  4.308434  </td><td>  1.482600  </td><td> 2.0        </td><td>   9.00     </td><td>   7.00     </td><td> 0.41487792 </td><td>  1.3782826 </td><td> 0.05409096 </td></tr>\n",
       "\t<tr><th scope=row>month*</th><td> 3          </td><td>517         </td><td>  6.75822050</td><td>  4.3732754 </td><td>  7.00      </td><td>  6.720482  </td><td>  7.413000  </td><td> 1.0        </td><td>  12.00     </td><td>  11.00     </td><td> 0.08358697 </td><td> -1.7193189 </td><td> 0.19233643 </td></tr>\n",
       "\t<tr><th scope=row>day*</th><td> 4          </td><td>517         </td><td>  3.73694391</td><td>  1.9250613 </td><td>  4.00      </td><td>  3.672289  </td><td>  2.965200  </td><td> 1.0        </td><td>   7.00     </td><td>   6.00     </td><td> 0.15684203 </td><td> -1.1093028 </td><td> 0.08466410 </td></tr>\n",
       "\t<tr><th scope=row>FFMC</th><td> 5          </td><td>517         </td><td> 90.64468085</td><td>  5.5201108 </td><td> 91.60      </td><td> 91.454940  </td><td>  1.927380  </td><td>18.7        </td><td>  96.20     </td><td>  77.50     </td><td>-6.53749886 </td><td> 66.1393621 </td><td> 0.24277420 </td></tr>\n",
       "\t<tr><th scope=row>DMC</th><td> 6          </td><td>517         </td><td>110.87234043</td><td> 64.0464822 </td><td>108.30      </td><td>106.522410  </td><td> 51.742740  </td><td> 1.1        </td><td> 291.30     </td><td> 290.20     </td><td> 0.54432492 </td><td>  0.1789299 </td><td> 2.81676107 </td></tr>\n",
       "\t<tr><th scope=row>DC</th><td> 7          </td><td>517         </td><td>547.94003868</td><td>248.0661917 </td><td>664.20      </td><td>578.692289  </td><td>118.904520  </td><td> 7.9        </td><td> 860.60     </td><td> 852.70     </td><td>-1.09406780 </td><td> -0.2650719 </td><td>10.90993864 </td></tr>\n",
       "\t<tr><th scope=row>ISI</th><td> 8          </td><td>517         </td><td>  9.02166344</td><td>  4.5594772 </td><td>  8.40      </td><td>  8.727470  </td><td>  3.113460  </td><td> 0.0        </td><td>  56.10     </td><td>  56.10     </td><td> 2.52162669 </td><td> 21.1458110 </td><td> 0.20052558 </td></tr>\n",
       "\t<tr><th scope=row>temp</th><td> 9          </td><td>517         </td><td> 18.88916828</td><td>  5.8066253 </td><td> 19.30      </td><td> 19.091084  </td><td>  5.337360  </td><td> 2.2        </td><td>  33.30     </td><td>  31.10     </td><td>-0.32925302 </td><td>  0.1111986 </td><td> 0.25537509 </td></tr>\n",
       "\t<tr><th scope=row>RH</th><td>10          </td><td>517         </td><td> 44.28820116</td><td> 16.3174692 </td><td> 42.00      </td><td> 42.706024  </td><td> 14.826000  </td><td>15.0        </td><td> 100.00     </td><td>  85.00     </td><td> 0.85790328 </td><td>  0.4091470 </td><td> 0.71764148 </td></tr>\n",
       "\t<tr><th scope=row>wind</th><td>11          </td><td>517         </td><td>  4.01760155</td><td>  1.7916526 </td><td>  4.00      </td><td>  3.898795  </td><td>  1.927380  </td><td> 0.4        </td><td>   9.40     </td><td>   9.00     </td><td> 0.56769205 </td><td>  0.0304595 </td><td> 0.07879679 </td></tr>\n",
       "\t<tr><th scope=row>rain</th><td>12          </td><td>517         </td><td>  0.02166344</td><td>  0.2959591 </td><td>  0.00      </td><td>  0.000000  </td><td>  0.000000  </td><td> 0.0        </td><td>   6.40     </td><td>   6.40     </td><td>19.70150380 </td><td>415.5969287 </td><td> 0.01301627 </td></tr>\n",
       "\t<tr><th scope=row>area</th><td>13          </td><td>517         </td><td> 12.84729207</td><td> 63.6558185 </td><td>  0.52      </td><td>  3.181952  </td><td>  0.770952  </td><td> 0.0        </td><td>1090.84     </td><td>1090.84     </td><td>12.77248266 </td><td>191.5020312 </td><td> 2.79957970 </td></tr>\n",
       "</tbody>\n",
       "</table>\n"
      ],
      "text/latex": [
       "\\begin{tabular}{r|lllllllllllll}\n",
       "  & vars & n & mean & sd & median & trimmed & mad & min & max & range & skew & kurtosis & se\\\\\n",
       "\\hline\n",
       "\tX &  1           & 517          &   4.66924565 &   2.3137778  &   4.00       &   4.672289   &   2.965200   &  1.0         &    9.00      &    8.00      &  0.03603577  &  -1.1796691  &  0.10175983 \\\\\n",
       "\tY &  2           & 517          &   4.29980658 &   1.2299004  &   4.00       &   4.308434   &   1.482600   &  2.0         &    9.00      &    7.00      &  0.41487792  &   1.3782826  &  0.05409096 \\\\\n",
       "\tmonth* &  3           & 517          &   6.75822050 &   4.3732754  &   7.00       &   6.720482   &   7.413000   &  1.0         &   12.00      &   11.00      &  0.08358697  &  -1.7193189  &  0.19233643 \\\\\n",
       "\tday* &  4           & 517          &   3.73694391 &   1.9250613  &   4.00       &   3.672289   &   2.965200   &  1.0         &    7.00      &    6.00      &  0.15684203  &  -1.1093028  &  0.08466410 \\\\\n",
       "\tFFMC &  5           & 517          &  90.64468085 &   5.5201108  &  91.60       &  91.454940   &   1.927380   & 18.7         &   96.20      &   77.50      & -6.53749886  &  66.1393621  &  0.24277420 \\\\\n",
       "\tDMC &  6           & 517          & 110.87234043 &  64.0464822  & 108.30       & 106.522410   &  51.742740   &  1.1         &  291.30      &  290.20      &  0.54432492  &   0.1789299  &  2.81676107 \\\\\n",
       "\tDC &  7           & 517          & 547.94003868 & 248.0661917  & 664.20       & 578.692289   & 118.904520   &  7.9         &  860.60      &  852.70      & -1.09406780  &  -0.2650719  & 10.90993864 \\\\\n",
       "\tISI &  8           & 517          &   9.02166344 &   4.5594772  &   8.40       &   8.727470   &   3.113460   &  0.0         &   56.10      &   56.10      &  2.52162669  &  21.1458110  &  0.20052558 \\\\\n",
       "\ttemp &  9           & 517          &  18.88916828 &   5.8066253  &  19.30       &  19.091084   &   5.337360   &  2.2         &   33.30      &   31.10      & -0.32925302  &   0.1111986  &  0.25537509 \\\\\n",
       "\tRH & 10           & 517          &  44.28820116 &  16.3174692  &  42.00       &  42.706024   &  14.826000   & 15.0         &  100.00      &   85.00      &  0.85790328  &   0.4091470  &  0.71764148 \\\\\n",
       "\twind & 11           & 517          &   4.01760155 &   1.7916526  &   4.00       &   3.898795   &   1.927380   &  0.4         &    9.40      &    9.00      &  0.56769205  &   0.0304595  &  0.07879679 \\\\\n",
       "\train & 12           & 517          &   0.02166344 &   0.2959591  &   0.00       &   0.000000   &   0.000000   &  0.0         &    6.40      &    6.40      & 19.70150380  & 415.5969287  &  0.01301627 \\\\\n",
       "\tarea & 13           & 517          &  12.84729207 &  63.6558185  &   0.52       &   3.181952   &   0.770952   &  0.0         & 1090.84      & 1090.84      & 12.77248266  & 191.5020312  &  2.79957970 \\\\\n",
       "\\end{tabular}\n"
      ],
      "text/markdown": [
       "\n",
       "| <!--/--> | vars | n | mean | sd | median | trimmed | mad | min | max | range | skew | kurtosis | se |\n",
       "|---|---|---|---|---|---|---|---|---|---|---|---|---|---|\n",
       "| X |  1           | 517          |   4.66924565 |   2.3137778  |   4.00       |   4.672289   |   2.965200   |  1.0         |    9.00      |    8.00      |  0.03603577  |  -1.1796691  |  0.10175983  |\n",
       "| Y |  2           | 517          |   4.29980658 |   1.2299004  |   4.00       |   4.308434   |   1.482600   |  2.0         |    9.00      |    7.00      |  0.41487792  |   1.3782826  |  0.05409096  |\n",
       "| month* |  3           | 517          |   6.75822050 |   4.3732754  |   7.00       |   6.720482   |   7.413000   |  1.0         |   12.00      |   11.00      |  0.08358697  |  -1.7193189  |  0.19233643  |\n",
       "| day* |  4           | 517          |   3.73694391 |   1.9250613  |   4.00       |   3.672289   |   2.965200   |  1.0         |    7.00      |    6.00      |  0.15684203  |  -1.1093028  |  0.08466410  |\n",
       "| FFMC |  5           | 517          |  90.64468085 |   5.5201108  |  91.60       |  91.454940   |   1.927380   | 18.7         |   96.20      |   77.50      | -6.53749886  |  66.1393621  |  0.24277420  |\n",
       "| DMC |  6           | 517          | 110.87234043 |  64.0464822  | 108.30       | 106.522410   |  51.742740   |  1.1         |  291.30      |  290.20      |  0.54432492  |   0.1789299  |  2.81676107  |\n",
       "| DC |  7           | 517          | 547.94003868 | 248.0661917  | 664.20       | 578.692289   | 118.904520   |  7.9         |  860.60      |  852.70      | -1.09406780  |  -0.2650719  | 10.90993864  |\n",
       "| ISI |  8           | 517          |   9.02166344 |   4.5594772  |   8.40       |   8.727470   |   3.113460   |  0.0         |   56.10      |   56.10      |  2.52162669  |  21.1458110  |  0.20052558  |\n",
       "| temp |  9           | 517          |  18.88916828 |   5.8066253  |  19.30       |  19.091084   |   5.337360   |  2.2         |   33.30      |   31.10      | -0.32925302  |   0.1111986  |  0.25537509  |\n",
       "| RH | 10           | 517          |  44.28820116 |  16.3174692  |  42.00       |  42.706024   |  14.826000   | 15.0         |  100.00      |   85.00      |  0.85790328  |   0.4091470  |  0.71764148  |\n",
       "| wind | 11           | 517          |   4.01760155 |   1.7916526  |   4.00       |   3.898795   |   1.927380   |  0.4         |    9.40      |    9.00      |  0.56769205  |   0.0304595  |  0.07879679  |\n",
       "| rain | 12           | 517          |   0.02166344 |   0.2959591  |   0.00       |   0.000000   |   0.000000   |  0.0         |    6.40      |    6.40      | 19.70150380  | 415.5969287  |  0.01301627  |\n",
       "| area | 13           | 517          |  12.84729207 |  63.6558185  |   0.52       |   3.181952   |   0.770952   |  0.0         | 1090.84      | 1090.84      | 12.77248266  | 191.5020312  |  2.79957970  |\n",
       "\n"
      ],
      "text/plain": [
       "       vars n   mean         sd          median trimmed    mad        min \n",
       "X       1   517   4.66924565   2.3137778   4.00   4.672289   2.965200  1.0\n",
       "Y       2   517   4.29980658   1.2299004   4.00   4.308434   1.482600  2.0\n",
       "month*  3   517   6.75822050   4.3732754   7.00   6.720482   7.413000  1.0\n",
       "day*    4   517   3.73694391   1.9250613   4.00   3.672289   2.965200  1.0\n",
       "FFMC    5   517  90.64468085   5.5201108  91.60  91.454940   1.927380 18.7\n",
       "DMC     6   517 110.87234043  64.0464822 108.30 106.522410  51.742740  1.1\n",
       "DC      7   517 547.94003868 248.0661917 664.20 578.692289 118.904520  7.9\n",
       "ISI     8   517   9.02166344   4.5594772   8.40   8.727470   3.113460  0.0\n",
       "temp    9   517  18.88916828   5.8066253  19.30  19.091084   5.337360  2.2\n",
       "RH     10   517  44.28820116  16.3174692  42.00  42.706024  14.826000 15.0\n",
       "wind   11   517   4.01760155   1.7916526   4.00   3.898795   1.927380  0.4\n",
       "rain   12   517   0.02166344   0.2959591   0.00   0.000000   0.000000  0.0\n",
       "area   13   517  12.84729207  63.6558185   0.52   3.181952   0.770952  0.0\n",
       "       max     range   skew        kurtosis    se         \n",
       "X         9.00    8.00  0.03603577  -1.1796691  0.10175983\n",
       "Y         9.00    7.00  0.41487792   1.3782826  0.05409096\n",
       "month*   12.00   11.00  0.08358697  -1.7193189  0.19233643\n",
       "day*      7.00    6.00  0.15684203  -1.1093028  0.08466410\n",
       "FFMC     96.20   77.50 -6.53749886  66.1393621  0.24277420\n",
       "DMC     291.30  290.20  0.54432492   0.1789299  2.81676107\n",
       "DC      860.60  852.70 -1.09406780  -0.2650719 10.90993864\n",
       "ISI      56.10   56.10  2.52162669  21.1458110  0.20052558\n",
       "temp     33.30   31.10 -0.32925302   0.1111986  0.25537509\n",
       "RH      100.00   85.00  0.85790328   0.4091470  0.71764148\n",
       "wind      9.40    9.00  0.56769205   0.0304595  0.07879679\n",
       "rain      6.40    6.40 19.70150380 415.5969287  0.01301627\n",
       "area   1090.84 1090.84 12.77248266 191.5020312  2.79957970"
      ]
     },
     "metadata": {},
     "output_type": "display_data"
    },
    {
     "data": {
      "text/html": [
       "<table>\n",
       "<thead><tr><th scope=col>X</th><th scope=col>Y</th><th scope=col>month</th><th scope=col>day</th><th scope=col>FFMC</th><th scope=col>DMC</th><th scope=col>DC</th><th scope=col>ISI</th><th scope=col>temp</th><th scope=col>RH</th><th scope=col>wind</th><th scope=col>rain</th><th scope=col>area</th></tr></thead>\n",
       "<tbody>\n",
       "\t<tr><td>7    </td><td>5    </td><td>mar  </td><td>fri  </td><td>86.2 </td><td> 26.2</td><td> 94.3</td><td> 5.1 </td><td> 8.2 </td><td>51   </td><td>6.7  </td><td>0.0  </td><td>0    </td></tr>\n",
       "\t<tr><td>7    </td><td>4    </td><td>oct  </td><td>tue  </td><td>90.6 </td><td> 35.4</td><td>669.1</td><td> 6.7 </td><td>18.0 </td><td>33   </td><td>0.9  </td><td>0.0  </td><td>0    </td></tr>\n",
       "\t<tr><td>7    </td><td>4    </td><td>oct  </td><td>sat  </td><td>90.6 </td><td> 43.7</td><td>686.9</td><td> 6.7 </td><td>14.6 </td><td>33   </td><td>1.3  </td><td>0.0  </td><td>0    </td></tr>\n",
       "\t<tr><td>8    </td><td>6    </td><td>mar  </td><td>fri  </td><td>91.7 </td><td> 33.3</td><td> 77.5</td><td> 9.0 </td><td> 8.3 </td><td>97   </td><td>4.0  </td><td>0.2  </td><td>0    </td></tr>\n",
       "\t<tr><td>8    </td><td>6    </td><td>mar  </td><td>sun  </td><td>89.3 </td><td> 51.3</td><td>102.2</td><td> 9.6 </td><td>11.4 </td><td>99   </td><td>1.8  </td><td>0.0  </td><td>0    </td></tr>\n",
       "\t<tr><td>8    </td><td>6    </td><td>aug  </td><td>sun  </td><td>92.3 </td><td> 85.3</td><td>488.0</td><td>14.7 </td><td>22.2 </td><td>29   </td><td>5.4  </td><td>0.0  </td><td>0    </td></tr>\n",
       "\t<tr><td>8    </td><td>6    </td><td>aug  </td><td>mon  </td><td>92.3 </td><td> 88.9</td><td>495.6</td><td> 8.5 </td><td>24.1 </td><td>27   </td><td>3.1  </td><td>0.0  </td><td>0    </td></tr>\n",
       "\t<tr><td>8    </td><td>6    </td><td>aug  </td><td>mon  </td><td>91.5 </td><td>145.4</td><td>608.2</td><td>10.7 </td><td> 8.0 </td><td>86   </td><td>2.2  </td><td>0.0  </td><td>0    </td></tr>\n",
       "\t<tr><td>8    </td><td>6    </td><td>sep  </td><td>tue  </td><td>91.0 </td><td>129.5</td><td>692.6</td><td> 7.0 </td><td>13.1 </td><td>63   </td><td>5.4  </td><td>0.0  </td><td>0    </td></tr>\n",
       "\t<tr><td>7    </td><td>5    </td><td>sep  </td><td>sat  </td><td>92.5 </td><td> 88.0</td><td>698.6</td><td> 7.1 </td><td>22.8 </td><td>40   </td><td>4.0  </td><td>0.0  </td><td>0    </td></tr>\n",
       "</tbody>\n",
       "</table>\n"
      ],
      "text/latex": [
       "\\begin{tabular}{r|lllllllllllll}\n",
       " X & Y & month & day & FFMC & DMC & DC & ISI & temp & RH & wind & rain & area\\\\\n",
       "\\hline\n",
       "\t 7     & 5     & mar   & fri   & 86.2  &  26.2 &  94.3 &  5.1  &  8.2  & 51    & 6.7   & 0.0   & 0    \\\\\n",
       "\t 7     & 4     & oct   & tue   & 90.6  &  35.4 & 669.1 &  6.7  & 18.0  & 33    & 0.9   & 0.0   & 0    \\\\\n",
       "\t 7     & 4     & oct   & sat   & 90.6  &  43.7 & 686.9 &  6.7  & 14.6  & 33    & 1.3   & 0.0   & 0    \\\\\n",
       "\t 8     & 6     & mar   & fri   & 91.7  &  33.3 &  77.5 &  9.0  &  8.3  & 97    & 4.0   & 0.2   & 0    \\\\\n",
       "\t 8     & 6     & mar   & sun   & 89.3  &  51.3 & 102.2 &  9.6  & 11.4  & 99    & 1.8   & 0.0   & 0    \\\\\n",
       "\t 8     & 6     & aug   & sun   & 92.3  &  85.3 & 488.0 & 14.7  & 22.2  & 29    & 5.4   & 0.0   & 0    \\\\\n",
       "\t 8     & 6     & aug   & mon   & 92.3  &  88.9 & 495.6 &  8.5  & 24.1  & 27    & 3.1   & 0.0   & 0    \\\\\n",
       "\t 8     & 6     & aug   & mon   & 91.5  & 145.4 & 608.2 & 10.7  &  8.0  & 86    & 2.2   & 0.0   & 0    \\\\\n",
       "\t 8     & 6     & sep   & tue   & 91.0  & 129.5 & 692.6 &  7.0  & 13.1  & 63    & 5.4   & 0.0   & 0    \\\\\n",
       "\t 7     & 5     & sep   & sat   & 92.5  &  88.0 & 698.6 &  7.1  & 22.8  & 40    & 4.0   & 0.0   & 0    \\\\\n",
       "\\end{tabular}\n"
      ],
      "text/markdown": [
       "\n",
       "| X | Y | month | day | FFMC | DMC | DC | ISI | temp | RH | wind | rain | area |\n",
       "|---|---|---|---|---|---|---|---|---|---|---|---|---|\n",
       "| 7     | 5     | mar   | fri   | 86.2  |  26.2 |  94.3 |  5.1  |  8.2  | 51    | 6.7   | 0.0   | 0     |\n",
       "| 7     | 4     | oct   | tue   | 90.6  |  35.4 | 669.1 |  6.7  | 18.0  | 33    | 0.9   | 0.0   | 0     |\n",
       "| 7     | 4     | oct   | sat   | 90.6  |  43.7 | 686.9 |  6.7  | 14.6  | 33    | 1.3   | 0.0   | 0     |\n",
       "| 8     | 6     | mar   | fri   | 91.7  |  33.3 |  77.5 |  9.0  |  8.3  | 97    | 4.0   | 0.2   | 0     |\n",
       "| 8     | 6     | mar   | sun   | 89.3  |  51.3 | 102.2 |  9.6  | 11.4  | 99    | 1.8   | 0.0   | 0     |\n",
       "| 8     | 6     | aug   | sun   | 92.3  |  85.3 | 488.0 | 14.7  | 22.2  | 29    | 5.4   | 0.0   | 0     |\n",
       "| 8     | 6     | aug   | mon   | 92.3  |  88.9 | 495.6 |  8.5  | 24.1  | 27    | 3.1   | 0.0   | 0     |\n",
       "| 8     | 6     | aug   | mon   | 91.5  | 145.4 | 608.2 | 10.7  |  8.0  | 86    | 2.2   | 0.0   | 0     |\n",
       "| 8     | 6     | sep   | tue   | 91.0  | 129.5 | 692.6 |  7.0  | 13.1  | 63    | 5.4   | 0.0   | 0     |\n",
       "| 7     | 5     | sep   | sat   | 92.5  |  88.0 | 698.6 |  7.1  | 22.8  | 40    | 4.0   | 0.0   | 0     |\n",
       "\n"
      ],
      "text/plain": [
       "   X Y month day FFMC DMC   DC    ISI  temp RH wind rain area\n",
       "1  7 5 mar   fri 86.2  26.2  94.3  5.1  8.2 51 6.7  0.0  0   \n",
       "2  7 4 oct   tue 90.6  35.4 669.1  6.7 18.0 33 0.9  0.0  0   \n",
       "3  7 4 oct   sat 90.6  43.7 686.9  6.7 14.6 33 1.3  0.0  0   \n",
       "4  8 6 mar   fri 91.7  33.3  77.5  9.0  8.3 97 4.0  0.2  0   \n",
       "5  8 6 mar   sun 89.3  51.3 102.2  9.6 11.4 99 1.8  0.0  0   \n",
       "6  8 6 aug   sun 92.3  85.3 488.0 14.7 22.2 29 5.4  0.0  0   \n",
       "7  8 6 aug   mon 92.3  88.9 495.6  8.5 24.1 27 3.1  0.0  0   \n",
       "8  8 6 aug   mon 91.5 145.4 608.2 10.7  8.0 86 2.2  0.0  0   \n",
       "9  8 6 sep   tue 91.0 129.5 692.6  7.0 13.1 63 5.4  0.0  0   \n",
       "10 7 5 sep   sat 92.5  88.0 698.6  7.1 22.8 40 4.0  0.0  0   "
      ]
     },
     "metadata": {},
     "output_type": "display_data"
    }
   ],
   "source": [
    "#loading the forestfire dataset\n",
    "dataset=read.csv(\"forestfires.csv\")\n",
    "\n",
    "cat(\"The forestfires dataset has \",dim(dataset)[1],\"rows and\",dim(dataset)[2],\"columns\")\n",
    "\n",
    "#display the structure\n",
    "str(dataset)\n",
    "\n",
    "#describing the statistics of dataset features\n",
    "describe(dataset)\n",
    "\n",
    "# #first 10 rows of the dataset\n",
    " head(dataset,10)"
   ]
  },
  {
   "cell_type": "markdown",
   "metadata": {},
   "source": [
    "### Summary of Attributes\n",
    "\n",
    "##### Following list identifies which attributes are numerical and whether they are continuous or discrete, the data types and the comment on what it tells :\n",
    "\n",
    "* X -> Integer type with mean at 4.66 and median at 4, spatial coordinate within the Montesinho park: 1 to 9\n",
    "\n",
    "* Y -> Integer type with mean at 4.29 and median at 4, spatial coordinate within the Montesinho park: 2 to 9\n",
    "\n",
    "* month -> Nominal data type, needs to be encoded using 1 hot encoding technique, wont be used in training the model\n",
    "\n",
    "* day -> Nominal data type, wont be used in training the model\n",
    "\n",
    "* FFMC -> numeric type, ranges from 18.7 to 96.20 and the mean and median are 90 and 91.6 respectively which suggests skewness\n",
    "\n",
    "* DMC -> numeric type, ranges from 1.1 to\t291.30 with mean and median lying in the middle\n",
    "\n",
    "* DC -> numeric type, ranges from 7.9 to 860.60 with mean 547.94, suggests some skewness towards right\n",
    "\n",
    "* ISI -> numeric type, ranges from 0.0 to 56.10 with mean 9.02, can have some outliers\n",
    "\n",
    "* temp -> numeric type, temperature in celsius degrees: 2.2 to 33.30, might have strong correlation with target variable\n",
    "\n",
    "* RH -> relative humidity in % i.e integer type, ranges from 15 to 100 with mean 44.28, can possibly have outliers\n",
    "\n",
    "* wind -> numeric type, ranging 0.40 to 9.40\n",
    "\n",
    "* rain -> outside rain in mm/m2, ranging 0.0 to 6.4 with mean 0.02166344, resemble highly skewed data, and outliers\n",
    "\n",
    "* area -> target variable, contains alot of null values, as some area burned are very small(in ha) "
   ]
  },
  {
   "cell_type": "code",
   "execution_count": 3,
   "metadata": {},
   "outputs": [
    {
     "data": {
      "image/png": "[encoded data removed]",
      "text/plain": [
       "Plot with title \"scatter plot:  FFMC\""
      ]
     },
     "metadata": {},
     "output_type": "display_data"
    },
    {
     "data": {
      "image/png": "[encoded data removed]",
      "text/plain": [
       "Plot with title \"scatter plot:  ISI\""
      ]
     },
     "metadata": {},
     "output_type": "display_data"
    },
    {
     "data": {
      "image/png": "[encoded data removed]",
      "text/plain": [
       "Plot with title \"scatter plot:  wind\""
      ]
     },
     "metadata": {},
     "output_type": "display_data"
    },
    {
     "data": {
      "image/png": "[encoded data removed]",
      "text/plain": [
       "Plot with title \"scatter plot:  area\""
      ]
     },
     "metadata": {},
     "output_type": "display_data"
    }
   ],
   "source": [
    "# plotting histogram, boxplot, and scatter plot for all the variables to see the distribution\n",
    "par(mfrow = c(3,3))\n",
    "dataset1 <- dataset[, -c(3:4)]\n",
    "for (x in colnames(dataset1[-ncol(dataset)])){\n",
    "    \n",
    "    min_d <- min(dataset1[ , x])\n",
    "    max_d <- max(dataset1[ , x])\n",
    "    b <- seq(min_d, max_d, length.out = 20)\n",
    "    hist(dataset[ , x], col = rgb(0, 1, 0, 0.35), breaks = b, main = paste(\"Histogram: \", x, sep = \"\"), xlab = x)\n",
    "    boxplot(dataset[ , x], main = paste(\"Boxplot: \", x, sep = \"\"))\n",
    "    plot(dataset[ , 13],dataset[ , x], main = paste(\"scatter plot: \", x), \n",
    "         xlab=\"area\",ylab=x)\n",
    "}"
   ]
  },
  {
   "cell_type": "markdown",
   "metadata": {},
   "source": [
    "These graphs above depicts:\n",
    "- Histogram for FFMC, DC show right skewness and can have potential outliers.\n",
    "- ISI, rain and area (target variable) are left skewed displaying majority of the record on the left side of the graph.\n",
    "- Out of all the variables, temp variable shows the most uniform spread and has low number of outliers in the boxplot.\n",
    "- The X and Y are spatial coordinates and do really resemble anything.\n",
    "- We can see that the area variable is especially skewed as majority of the fire burned areas are close to zero i.e null. We can try and remove the null records so as to judge the distribution of the target variable."
   ]
  },
  {
   "cell_type": "markdown",
   "metadata": {},
   "source": [
    "To reduce skewness and improve symmetry, the logarithm function y = ln(x), which is a common transformation that tends to improve regression results for right-skewed targets, is applied to the area attribute"
   ]
  },
  {
   "cell_type": "code",
   "execution_count": 4,
   "metadata": {},
   "outputs": [],
   "source": [
    "for (i in seq_along(dataset$area))\n",
    "{\n",
    "    if (dataset$area[i]>0){\n",
    "        dataset$logarea[i] <- log(dataset$area[i])\n",
    "    }\n",
    "    else{\n",
    "        dataset$logarea[i] <- NA\n",
    "    }\n",
    "}"
   ]
  },
  {
   "cell_type": "code",
   "execution_count": 5,
   "metadata": {},
   "outputs": [
    {
     "name": "stderr",
     "output_type": "stream",
     "text": [
      "`stat_bin()` using `bins = 30`. Pick better value with `binwidth`.\n",
      "Warning message:\n",
      "\"Removed 247 rows containing non-finite values (stat_bin).\""
     ]
    },
    {
     "data": {
      "image/png": "[encoded data removed]",
      "text/plain": [
       "plot without title"
      ]
     },
     "metadata": {},
     "output_type": "display_data"
    }
   ],
   "source": [
    "#plotting the graph to check the new distribution using the smooth line \n",
    "ggplot(dataset, aes(x = logarea)) + \n",
    "  geom_histogram(aes(y = ..density..), colour = \"black\", fill = \"White\") +\n",
    "  stat_function(fun = dnorm, args = list(mean = mean(dataset$logarea,na.rm=TRUE), sd = sd(dataset$logarea,na.rm=TRUE)),col = 'red')"
   ]
  },
  {
   "cell_type": "code",
   "execution_count": 6,
   "metadata": {},
   "outputs": [
    {
     "name": "stdout",
     "output_type": "stream",
     "text": [
      "The mean of the distribution is 1.844831 and the standard deviation is 1.526712"
     ]
    }
   ],
   "source": [
    "mean = mean(dataset$logarea,na.rm=TRUE)\n",
    "sd = sd(dataset$logarea,na.rm=TRUE)\n",
    "\n",
    "cat(\"The mean of the distribution is\",mean,\"and the standard deviation is\",sd)\n",
    "dataset=dataset[,-14]"
   ]
  },
  {
   "cell_type": "markdown",
   "metadata": {},
   "source": [
    "### Correlation Plot Function\n",
    "\n",
    "Now lets separate the non-zero entries in the area variable, and exclude the non-numeric data, for buidling a correlation plot function."
   ]
  },
  {
   "cell_type": "code",
   "execution_count": 7,
   "metadata": {},
   "outputs": [],
   "source": [
    "nonzero_data = dataset[which(dataset$area > 0),]\n",
    "nonzero_data = nonzero_data[, -c(3:4)]"
   ]
  },
  {
   "cell_type": "code",
   "execution_count": 8,
   "metadata": {},
   "outputs": [
    {
     "data": {
      "image/png": "[encoded data removed]",
      "text/plain": [
       "plot without title"
      ]
     },
     "metadata": {},
     "output_type": "display_data"
    }
   ],
   "source": [
    "colorRange <- c('#69091e', '#e37f65', 'white', '#aed2e6', '#042f60')\n",
    "\n",
    "myColorRampFunc <- colorRamp(colorRange)\n",
    "\n",
    "panel.cor <- function(w, z, ...) {\n",
    "    correlation <- cor(w, z)\n",
    "\n",
    "    ## because the func needs [0,1] and cor gives [-1,1], we need to shift and scale it\n",
    "    col <- rgb(myColorRampFunc((1 + correlation) / 2 ) / 255 )\n",
    "\n",
    "    ## square it to avoid visual bias due to \"area vs diameter\"\n",
    "    radius <- sqrt(abs(correlation))\n",
    "    radians <- seq(0, 2*pi, len = 50) # 50 is arbitrary\n",
    "    x <- radius * cos(radians)\n",
    "    y <- radius * sin(radians)\n",
    "    ## make them full loops\n",
    "    x <- c(x, tail(x,n=1))\n",
    "    y <- c(y, tail(y,n=1))\n",
    "\n",
    "    ## trick: \"don't create a new plot\" thing by following the\n",
    "    ## advice here: http://www.r-bloggers.com/multiple-y-axis-in-a-r-plot/\n",
    "    ## This allows\n",
    "    par(new=TRUE)\n",
    "    plot(0, type='n', xlim=c(-1,1), ylim=c(-1,1), axes=FALSE, asp=1)\n",
    "    polygon(x, y, border=col, col=col)\n",
    "}\n",
    "\n",
    "pairs(nonzero_data[sample.int(nrow(nonzero_data),270),], lower.panel=panel.cor, panel= panel.smooth)"
   ]
  },
  {
   "cell_type": "markdown",
   "metadata": {},
   "source": [
    "- However we can take a closer look at the correlation between FFMC, DMC, DC, ISI and area."
   ]
  },
  {
   "cell_type": "code",
   "execution_count": 9,
   "metadata": {},
   "outputs": [
    {
     "data": {
      "image/png": "[encoded data removed]",
      "text/plain": [
       "plot without title"
      ]
     },
     "metadata": {},
     "output_type": "display_data"
    }
   ],
   "source": [
    "tempdata = nonzero_data[, c(3:6,11)]\n",
    "# Check correlations (as scatterplots), distribution and print corrleation coefficient \n",
    "ggpairs(tempdata, title=\"correlogram with ggpairs()\")"
   ]
  },
  {
   "cell_type": "markdown",
   "metadata": {},
   "source": [
    "- From the above correlation matrix we can see that no two features are strongly correlating with each other or to the target variable. We can see DMC and DC correlates with a coefficient of 0.67, while FFMC correlates DC with coefficient of 0.41 and the highest correlation between FFMC and ISI with coeeficient of 0.7. \n",
    "- We can see no strong correlation with the target variable, we can notice that temp correlates with area with coefficient of 0.11, which is highest as compared to other variables."
   ]
  },
  {
   "cell_type": "markdown",
   "metadata": {},
   "source": [
    "Analyzing the month and day variable w.r.t. area"
   ]
  },
  {
   "cell_type": "code",
   "execution_count": 10,
   "metadata": {},
   "outputs": [
    {
     "data": {
      "image/png": "[encoded data removed]",
      "text/plain": [
       "plot without title"
      ]
     },
     "metadata": {},
     "output_type": "display_data"
    }
   ],
   "source": [
    "#analysing the monthly burned area over the span of 4 years.\n",
    "ggplot(data=dataset, aes(x=month, y=area))+geom_bar(stat=\"identity\")"
   ]
  },
  {
   "cell_type": "markdown",
   "metadata": {},
   "source": [
    "The above bar plot gives us a interesting detail about the scenario of forest fires across different months in portugal.\n",
    "Well in our case we have data from 2000 to 2003, so by looking at the above graph, we can see that September and August are the months where severe forest fires had happened, while in the month of January and November no significant forest fires were spectated, we can expect such a behaviour since Portugal has summer season from June - September and is generally very hot. Focusing more on Sept and Aug can help narrow down our exploration.   "
   ]
  },
  {
   "cell_type": "code",
   "execution_count": 11,
   "metadata": {},
   "outputs": [
    {
     "data": {
      "image/png": "[encoded data removed]",
      "text/plain": [
       "plot without title"
      ]
     },
     "metadata": {},
     "output_type": "display_data"
    }
   ],
   "source": [
    "ggplot(data=dataset, aes(x=day, y=area))+geom_bar(stat=\"identity\")"
   ]
  },
  {
   "cell_type": "markdown",
   "metadata": {},
   "source": [
    "Accordingly I also checked for day, to see if we get any insights, we can see that Saturday had the most area burned, it could be a chance or a bias due to an outlier."
   ]
  },
  {
   "cell_type": "markdown",
   "metadata": {},
   "source": [
    "Now, from the first bargraph we can further narrow down our analysis month wise, and it may end up giving us more evidence and adequate data to make some predictions."
   ]
  },
  {
   "cell_type": "code",
   "execution_count": 12,
   "metadata": {},
   "outputs": [],
   "source": [
    "month_data = dataset[which(dataset$area > 0),]\n",
    "\n",
    "month_data = month_data[month_data$month == 'sep' | month_data$month == 'aug',]"
   ]
  },
  {
   "cell_type": "code",
   "execution_count": 13,
   "metadata": {},
   "outputs": [
    {
     "data": {
      "image/png": "[encoded data removed]",
      "text/plain": [
       "plot without title"
      ]
     },
     "metadata": {},
     "output_type": "display_data"
    }
   ],
   "source": [
    "pairs(month_data[sample.int(nrow(month_data),196),], lower.panel=panel.cor, panel= panel.smooth)"
   ]
  },
  {
   "cell_type": "code",
   "execution_count": 14,
   "metadata": {},
   "outputs": [
    {
     "name": "stderr",
     "output_type": "stream",
     "text": [
      "Warning message:\n",
      "\"package 'corrplot' was built under R version 3.6.3\"corrplot 0.84 loaded\n"
     ]
    },
    {
     "data": {
      "image/png": "[encoded data removed]",
      "text/plain": [
       "Plot with title \"\""
      ]
     },
     "metadata": {},
     "output_type": "display_data"
    }
   ],
   "source": [
    "library(corrplot)\n",
    "corrplot(cor(month_data[,-c(3,4)]),\"number\")"
   ]
  },
  {
   "cell_type": "markdown",
   "metadata": {},
   "source": [
    "## 3. Model Development<a class=\"anchor\" id=\"sec_3\"></a>"
   ]
  },
  {
   "cell_type": "markdown",
   "metadata": {},
   "source": [
    "### First Model : Linear model on all the numeric variables\n",
    "- Converted the month variable to numeric data by using one-hot encoding method\n",
    "- excluded day variable as showed no strong significance.\n",
    "- No tranformation on any variable, no even on the target variable"
   ]
  },
  {
   "cell_type": "markdown",
   "metadata": {},
   "source": [
    "Converting the categorical variables from the dataset and building the model with just numeric data and no tranformations\n"
   ]
  },
  {
   "cell_type": "code",
   "execution_count": 15,
   "metadata": {},
   "outputs": [],
   "source": [
    "#removing day from the dataset\n",
    "dataset_1=dataset[,c(-4)]\n",
    "#converting the dataset by encoding\n",
    "dataset_1<- one_hot(as.data.table(dataset_1))"
   ]
  },
  {
   "cell_type": "code",
   "execution_count": 16,
   "metadata": {},
   "outputs": [],
   "source": [
    "# divide testing and training\n",
    "# 80% train and 20% test\n",
    "set.seed(123)\n",
    "sample_size <- floor(0.8 * nrow(dataset_1))\n",
    "train_ind <- sample(seq_len(nrow(dataset_1)), size = sample_size)\n",
    "\n",
    "train.data <- dataset_1[train_ind,]\n",
    "test.data <- dataset_1[-train_ind,]"
   ]
  },
  {
   "cell_type": "code",
   "execution_count": 17,
   "metadata": {},
   "outputs": [],
   "source": [
    "# splitting the dataset to train and test label and data\n",
    "train_data <- as.matrix(train.data[,-11])\n",
    "train_label <- as.matrix(train.data[,11], drop=false)\n",
    "test_data <- as.matrix(test.data[,-11])\n",
    "test_label <- as.matrix(test.data[,11], drop=false)"
   ]
  },
  {
   "cell_type": "code",
   "execution_count": 18,
   "metadata": {},
   "outputs": [
    {
     "name": "stdout",
     "output_type": "stream",
     "text": [
      "\n",
      "Call:\n",
      "lm(formula = area ~ ., data = train.data)\n",
      "\n",
      "Residuals:\n",
      "    Min      1Q  Median      3Q     Max \n",
      " -47.81  -17.62   -7.75    3.51 1045.04 \n",
      "\n",
      "Coefficients: (2 not defined because of singularities)\n",
      "             Estimate Std. Error t value Pr(>|t|)  \n",
      "(Intercept)  80.04931  110.69431   0.723   0.4700  \n",
      "X             1.89536    1.80573   1.050   0.2945  \n",
      "Y             1.20747    3.39952   0.355   0.7226  \n",
      "month_apr   -94.76230   55.81130  -1.698   0.0903 .\n",
      "month_aug   -29.54412   12.67526  -2.331   0.0203 *\n",
      "month_dec   -37.14653   48.06366  -0.773   0.4401  \n",
      "month_feb   -83.20191   51.91159  -1.603   0.1098  \n",
      "month_jan   -66.39786   76.54119  -0.867   0.3862  \n",
      "month_jul   -60.85127   25.61963  -2.375   0.0180 *\n",
      "month_jun   -80.12474   37.77302  -2.121   0.0345 *\n",
      "month_mar   -95.48449   48.64627  -1.963   0.0504 .\n",
      "month_may   -73.40122   67.49482  -1.088   0.2775  \n",
      "month_nov          NA         NA      NA       NA  \n",
      "month_oct    -6.03883   26.67762  -0.226   0.8210  \n",
      "month_sep          NA         NA      NA       NA  \n",
      "FFMC         -0.06166    0.93238  -0.066   0.9473  \n",
      "DMC           0.23116    0.10297   2.245   0.0253 *\n",
      "DC           -0.15707    0.07775  -2.020   0.0440 *\n",
      "ISI          -0.76180    0.96602  -0.789   0.4308  \n",
      "temp          1.47593    1.25118   1.180   0.2389  \n",
      "RH           -0.20416    0.35832  -0.570   0.5692  \n",
      "wind          1.74940    2.17967   0.803   0.4227  \n",
      "rain         -9.19079   37.96401  -0.242   0.8088  \n",
      "---\n",
      "Signif. codes:  0 '***' 0.001 '**' 0.01 '*' 0.05 '.' 0.1 ' ' 1\n",
      "\n",
      "Residual standard error: 69.72 on 392 degrees of freedom\n",
      "Multiple R-squared:  0.04255,\tAdjusted R-squared:  -0.006298 \n",
      "F-statistic: 0.8711 on 20 and 392 DF,  p-value: 0.6247\n",
      "\n"
     ]
    }
   ],
   "source": [
    "#fitting the linear model on the train data\n",
    "model_1 <- lm(area~. , data = train.data)\n",
    "model_1.sum <- summary(model_1)\n",
    "print(model_1.sum)"
   ]
  },
  {
   "cell_type": "code",
   "execution_count": 19,
   "metadata": {},
   "outputs": [
    {
     "data": {
      "image/png": "[encoded data removed]",
      "text/plain": [
       "Plot with title \"\""
      ]
     },
     "metadata": {},
     "output_type": "display_data"
    }
   ],
   "source": [
    "#plotting the model \n",
    "par(mfrow = c(2,2))\n",
    "plot(model_1) "
   ]
  },
  {
   "cell_type": "code",
   "execution_count": 20,
   "metadata": {},
   "outputs": [
    {
     "name": "stderr",
     "output_type": "stream",
     "text": [
      "Warning message in predict.lm(model_1, newdata = test.data):\n",
      "\"prediction from a rank-deficient fit may be misleading\""
     ]
    },
    {
     "name": "stdout",
     "output_type": "stream",
     "text": [
      "The MAE for the second model is: 15.68985\n",
      "The R2 for the second model is: -0.006297567"
     ]
    }
   ],
   "source": [
    "# lets do prediction on model 1\n",
    "y_pred_1 = predict.lm(model_1, newdata = test.data)\n",
    "MAE= mean(abs(y_pred_1-test_label))\n",
    "cat(\"The MAE for the second model is:\",MAE)\n",
    "cat(\"\\nThe R2 for the second model is:\",summary(model_1)$adj.r.square)\n"
   ]
  },
  {
   "cell_type": "markdown",
   "metadata": {},
   "source": [
    "#### Using the step-wise selection function for both directions"
   ]
  },
  {
   "cell_type": "code",
   "execution_count": 21,
   "metadata": {},
   "outputs": [
    {
     "name": "stdout",
     "output_type": "stream",
     "text": [
      "Start:  AIC=3526.4\n",
      "area ~ X + Y + month_apr + month_aug + month_dec + month_feb + \n",
      "    month_jan + month_jul + month_jun + month_mar + month_may + \n",
      "    month_nov + month_oct + month_sep + FFMC + DMC + DC + ISI + \n",
      "    temp + RH + wind + rain\n",
      "\n",
      "\n",
      "Step:  AIC=3526.4\n",
      "area ~ X + Y + month_apr + month_aug + month_dec + month_feb + \n",
      "    month_jan + month_jul + month_jun + month_mar + month_may + \n",
      "    month_nov + month_oct + FFMC + DMC + DC + ISI + temp + RH + \n",
      "    wind + rain\n",
      "\n",
      "\n",
      "Step:  AIC=3526.4\n",
      "area ~ X + Y + month_apr + month_aug + month_dec + month_feb + \n",
      "    month_jan + month_jul + month_jun + month_mar + month_may + \n",
      "    month_oct + FFMC + DMC + DC + ISI + temp + RH + wind + rain\n",
      "\n",
      "            Df Sum of Sq     RSS    AIC\n",
      "- FFMC       1      21.3 1905495 3524.4\n",
      "- month_oct  1     249.1 1905723 3524.4\n",
      "- rain       1     284.9 1905758 3524.5\n",
      "- Y          1     613.2 1906087 3524.5\n",
      "- RH         1    1577.9 1907051 3524.7\n",
      "- month_dec  1    2903.5 1908377 3525.0\n",
      "- ISI        1    3023.0 1908497 3525.1\n",
      "- wind       1    3131.2 1908605 3525.1\n",
      "- month_jan  1    3657.9 1909131 3525.2\n",
      "- X          1    5355.4 1910829 3525.6\n",
      "- month_may  1    5748.9 1911222 3525.6\n",
      "- temp       1    6764.0 1912238 3525.9\n",
      "<none>                   1905474 3526.4\n",
      "- month_feb  1   12486.9 1917960 3527.1\n",
      "- month_apr  1   14013.4 1919487 3527.4\n",
      "- month_mar  1   18727.7 1924201 3528.4\n",
      "- DC         1   19840.1 1925314 3528.7\n",
      "- month_jun  1   21871.9 1927345 3529.1\n",
      "- DMC        1   24495.8 1929969 3529.7\n",
      "- month_aug  1   26408.6 1931882 3530.1\n",
      "- month_jul  1   27422.7 1932896 3530.3\n",
      "\n",
      "Step:  AIC=3524.4\n",
      "area ~ X + Y + month_apr + month_aug + month_dec + month_feb + \n",
      "    month_jan + month_jul + month_jun + month_mar + month_may + \n",
      "    month_oct + DMC + DC + ISI + temp + RH + wind + rain\n",
      "\n",
      "            Df Sum of Sq     RSS    AIC\n",
      "- month_oct  1     251.4 1905746 3522.5\n",
      "- rain       1     299.9 1905795 3522.5\n",
      "- Y          1     615.2 1906110 3522.5\n",
      "- RH         1    1570.1 1907065 3522.7\n",
      "- month_dec  1    2883.3 1908378 3523.0\n",
      "- wind       1    3226.1 1908721 3523.1\n",
      "- ISI        1    3852.6 1909347 3523.2\n",
      "- month_jan  1    4310.5 1909805 3523.3\n",
      "- X          1    5349.3 1910844 3523.6\n",
      "- month_may  1    5730.0 1911225 3523.6\n",
      "- temp       1    6833.4 1912328 3523.9\n",
      "<none>                   1905495 3524.4\n",
      "- month_feb  1   12582.7 1918078 3525.1\n",
      "- month_apr  1   14094.4 1919589 3525.4\n",
      "+ FFMC       1      21.3 1905474 3526.4\n",
      "- month_mar  1   18753.1 1924248 3526.4\n",
      "- DC         1   19887.4 1925382 3526.7\n",
      "- month_jun  1   21927.4 1927422 3527.1\n",
      "- DMC        1   25451.3 1930946 3527.9\n",
      "- month_aug  1   26447.9 1931943 3528.1\n",
      "- month_jul  1   27431.4 1932926 3528.3\n",
      "\n",
      "Step:  AIC=3522.45\n",
      "area ~ X + Y + month_apr + month_aug + month_dec + month_feb + \n",
      "    month_jan + month_jul + month_jun + month_mar + month_may + \n",
      "    DMC + DC + ISI + temp + RH + wind + rain\n",
      "\n",
      "            Df Sum of Sq     RSS    AIC\n",
      "- rain       1     328.4 1906075 3520.5\n",
      "- Y          1     599.7 1906346 3520.6\n",
      "- RH         1    1413.1 1907159 3520.8\n",
      "- month_dec  1    2712.0 1908458 3521.0\n",
      "- wind       1    3364.1 1909110 3521.2\n",
      "- ISI        1    3780.2 1909526 3521.3\n",
      "- month_jan  1    4218.9 1909965 3521.4\n",
      "- X          1    5211.5 1910958 3521.6\n",
      "- month_may  1    5665.0 1911411 3521.7\n",
      "- temp       1    7482.0 1913228 3522.1\n",
      "<none>                   1905746 3522.5\n",
      "- month_feb  1   12380.6 1918127 3523.1\n",
      "- month_apr  1   13896.9 1919643 3523.5\n",
      "+ month_oct  1     251.4 1905495 3524.4\n",
      "+ month_sep  1     251.4 1905495 3524.4\n",
      "+ FFMC       1      23.5 1905723 3524.4\n",
      "- month_mar  1   18539.5 1924286 3524.5\n",
      "- DC         1   19949.2 1925695 3524.8\n",
      "- month_jun  1   21814.2 1927560 3525.2\n",
      "- month_aug  1   26458.9 1932205 3526.1\n",
      "- DMC        1   27047.1 1932793 3526.3\n",
      "- month_jul  1   27336.2 1933082 3526.3\n",
      "\n",
      "Step:  AIC=3520.53\n",
      "area ~ X + Y + month_apr + month_aug + month_dec + month_feb + \n",
      "    month_jan + month_jul + month_jun + month_mar + month_may + \n",
      "    DMC + DC + ISI + temp + RH + wind\n",
      "\n",
      "            Df Sum of Sq     RSS    AIC\n",
      "- Y          1     616.3 1906691 3518.7\n",
      "- RH         1    1843.7 1907918 3518.9\n",
      "- month_dec  1    2978.2 1909053 3519.2\n",
      "- wind       1    3128.7 1909203 3519.2\n",
      "- ISI        1    3806.5 1909881 3519.3\n",
      "- month_jan  1    4376.1 1910451 3519.5\n",
      "- X          1    5086.0 1911161 3519.6\n",
      "- month_may  1    5794.1 1911869 3519.8\n",
      "- temp       1    7163.0 1913238 3520.1\n",
      "<none>                   1906075 3520.5\n",
      "- month_feb  1   12910.5 1918985 3521.3\n",
      "- month_apr  1   14451.7 1920526 3521.6\n",
      "+ rain       1     328.4 1905746 3522.5\n",
      "+ month_oct  1     279.9 1905795 3522.5\n",
      "+ month_sep  1     279.9 1905795 3522.5\n",
      "+ FFMC       1      40.2 1906034 3522.5\n",
      "- month_mar  1   19386.3 1925461 3522.7\n",
      "- DC         1   20651.7 1926726 3523.0\n",
      "- month_jun  1   22201.6 1928276 3523.3\n",
      "- month_aug  1   27108.9 1933183 3524.4\n",
      "- DMC        1   27664.2 1933739 3524.5\n",
      "- month_jul  1   27768.6 1933843 3524.5\n",
      "\n",
      "Step:  AIC=3518.66\n",
      "area ~ X + month_apr + month_aug + month_dec + month_feb + month_jan + \n",
      "    month_jul + month_jun + month_mar + month_may + DMC + DC + \n",
      "    ISI + temp + RH + wind\n",
      "\n",
      "            Df Sum of Sq     RSS    AIC\n",
      "- RH         1    1693.5 1908384 3517.0\n",
      "- wind       1    2957.2 1909648 3517.3\n",
      "- month_dec  1    2959.5 1909650 3517.3\n",
      "- ISI        1    3931.5 1910622 3517.5\n",
      "- month_jan  1    4505.4 1911196 3517.6\n",
      "- month_may  1    6203.3 1912894 3518.0\n",
      "- temp       1    7529.8 1914221 3518.3\n",
      "<none>                   1906691 3518.7\n",
      "- X          1   10146.3 1916837 3518.9\n",
      "- month_feb  1   13511.9 1920203 3519.6\n",
      "- month_apr  1   15047.3 1921738 3519.9\n",
      "+ Y          1     616.3 1906075 3520.5\n",
      "+ rain       1     345.0 1906346 3520.6\n",
      "+ month_oct  1     264.1 1906427 3520.6\n",
      "+ month_sep  1     264.1 1906427 3520.6\n",
      "+ FFMC       1      43.2 1906648 3520.7\n",
      "- month_mar  1   20035.1 1926726 3521.0\n",
      "- DC         1   21912.3 1928603 3521.4\n",
      "- month_jun  1   23262.5 1929953 3521.7\n",
      "- month_aug  1   27722.4 1934413 3522.6\n",
      "- month_jul  1   28583.9 1935275 3522.8\n",
      "- DMC        1   29008.5 1935699 3522.9\n",
      "\n",
      "Step:  AIC=3517.03\n",
      "area ~ X + month_apr + month_aug + month_dec + month_feb + month_jan + \n",
      "    month_jul + month_jun + month_mar + month_may + DMC + DC + \n",
      "    ISI + temp + wind\n",
      "\n",
      "            Df Sum of Sq     RSS    AIC\n",
      "- month_dec  1    1721.0 1910105 3515.4\n",
      "- wind       1    2767.9 1911152 3515.6\n",
      "- ISI        1    3717.7 1912102 3515.8\n",
      "- month_jan  1    5029.4 1913414 3516.1\n",
      "- month_may  1    6846.7 1915231 3516.5\n",
      "<none>                   1908384 3517.0\n",
      "- X          1    9568.3 1917953 3517.1\n",
      "- month_feb  1   13200.5 1921585 3517.9\n",
      "- month_apr  1   14531.7 1922916 3518.2\n",
      "+ RH         1    1693.5 1906691 3518.7\n",
      "+ rain       1     759.2 1907625 3518.9\n",
      "+ Y          1     466.1 1907918 3518.9\n",
      "+ month_oct  1      98.1 1908286 3519.0\n",
      "+ month_sep  1      98.1 1908286 3519.0\n",
      "+ FFMC       1       3.0 1908381 3519.0\n",
      "- month_mar  1   19114.8 1927499 3519.1\n",
      "- DC         1   22042.4 1930427 3519.8\n",
      "- month_jun  1   24289.5 1932674 3520.2\n",
      "- DMC        1   27381.1 1935766 3520.9\n",
      "- temp       1   29615.7 1938000 3521.4\n",
      "- month_jul  1   30915.8 1939300 3521.7\n",
      "- month_aug  1   31119.1 1939503 3521.7\n",
      "\n",
      "Step:  AIC=3515.4\n",
      "area ~ X + month_apr + month_aug + month_feb + month_jan + month_jul + \n",
      "    month_jun + month_mar + month_may + DMC + DC + ISI + temp + \n",
      "    wind\n",
      "\n",
      "            Df Sum of Sq     RSS    AIC\n",
      "- wind       1      2055 1912160 3513.8\n",
      "- ISI        1      2872 1912978 3514.0\n",
      "- month_jan  1      3467 1913572 3514.1\n",
      "- month_may  1      5182 1915288 3514.5\n",
      "<none>                   1910105 3515.4\n",
      "- X          1      9396 1919502 3515.4\n",
      "- month_feb  1     12584 1922689 3516.1\n",
      "- month_apr  1     13678 1923783 3516.3\n",
      "+ month_dec  1      1721 1908384 3517.0\n",
      "+ rain       1       818 1909288 3517.2\n",
      "+ month_sep  1       806 1909299 3517.2\n",
      "+ Y          1       513 1909593 3517.3\n",
      "+ RH         1       455 1909650 3517.3\n",
      "+ month_oct  1        48 1910057 3517.4\n",
      "+ FFMC       1         7 1910099 3517.4\n",
      "- month_mar  1     20232 1930338 3517.7\n",
      "- DC         1     22852 1932957 3518.3\n",
      "- month_jun  1     23905 1934010 3518.5\n",
      "- DMC        1     25673 1935778 3518.9\n",
      "- month_aug  1     30110 1940216 3519.9\n",
      "- month_jul  1     31158 1941263 3520.1\n",
      "- temp       1     34076 1944181 3520.7\n",
      "\n",
      "Step:  AIC=3513.84\n",
      "area ~ X + month_apr + month_aug + month_feb + month_jan + month_jul + \n",
      "    month_jun + month_mar + month_may + DMC + DC + ISI + temp\n",
      "\n",
      "            Df Sum of Sq     RSS    AIC\n",
      "- ISI        1      2277 1914437 3512.3\n",
      "- month_jan  1      4719 1916879 3512.9\n",
      "- month_may  1      5801 1917961 3513.1\n",
      "<none>                   1912160 3513.8\n",
      "- X          1      9476 1921637 3513.9\n",
      "- month_feb  1     14841 1927001 3515.0\n",
      "- month_apr  1     15577 1927737 3515.2\n",
      "+ wind       1      2055 1910105 3515.4\n",
      "+ month_dec  1      1008 1911152 3515.6\n",
      "+ month_sep  1       720 1911440 3515.7\n",
      "+ RH         1       531 1911629 3515.7\n",
      "+ rain       1       433 1911727 3515.7\n",
      "+ Y          1       376 1911784 3515.8\n",
      "+ month_oct  1       115 1912046 3515.8\n",
      "+ FFMC       1         6 1912154 3515.8\n",
      "- month_mar  1     22302 1934462 3516.6\n",
      "- month_jun  1     26026 1938187 3517.4\n",
      "- DC         1     26231 1938391 3517.5\n",
      "- DMC        1     27135 1939295 3517.7\n",
      "- month_aug  1     30382 1942542 3518.4\n",
      "- temp       1     32023 1944183 3518.7\n",
      "- month_jul  1     33198 1945358 3519.0\n",
      "\n",
      "Step:  AIC=3512.33\n",
      "area ~ X + month_apr + month_aug + month_feb + month_jan + month_jul + \n",
      "    month_jun + month_mar + month_may + DMC + DC + temp\n",
      "\n",
      "            Df Sum of Sq     RSS    AIC\n",
      "- month_jan  1      4082 1918519 3511.2\n",
      "- month_may  1      5186 1919623 3511.5\n",
      "- X          1      9063 1923500 3512.3\n",
      "<none>                   1914437 3512.3\n",
      "- month_feb  1     13484 1927921 3513.2\n",
      "- month_apr  1     14407 1928844 3513.4\n",
      "+ ISI        1      2277 1912160 3513.8\n",
      "+ wind       1      1459 1912978 3514.0\n",
      "+ RH         1       616 1913821 3514.2\n",
      "+ month_dec  1       519 1913918 3514.2\n",
      "+ rain       1       473 1913964 3514.2\n",
      "+ Y          1       468 1913969 3514.2\n",
      "+ FFMC       1       460 1913977 3514.2\n",
      "+ month_sep  1       427 1914010 3514.2\n",
      "+ month_oct  1        85 1914352 3514.3\n",
      "- month_mar  1     21180 1935617 3514.9\n",
      "- DC         1     24994 1939431 3515.7\n",
      "- DMC        1     26118 1940555 3515.9\n",
      "- month_jun  1     26525 1940962 3516.0\n",
      "- temp       1     29854 1944291 3516.7\n",
      "- month_jul  1     32457 1946894 3517.3\n",
      "- month_aug  1     32499 1946936 3517.3\n",
      "\n",
      "Step:  AIC=3511.21\n",
      "area ~ X + month_apr + month_aug + month_feb + month_jul + month_jun + \n",
      "    month_mar + month_may + DMC + DC + temp\n",
      "\n",
      "            Df Sum of Sq     RSS    AIC\n",
      "- month_may  1    2993.5 1921513 3509.9\n",
      "- X          1    9203.0 1927722 3511.2\n",
      "<none>                   1918519 3511.2\n",
      "- month_feb  1    9444.7 1927964 3511.2\n",
      "- month_apr  1   10452.3 1928972 3511.5\n",
      "+ month_jan  1    4082.3 1914437 3512.3\n",
      "+ wind       1    2536.3 1915983 3512.7\n",
      "+ RH         1    1702.3 1916817 3512.8\n",
      "+ ISI        1    1640.5 1916879 3512.9\n",
      "- month_mar  1   17323.1 1935842 3512.9\n",
      "+ month_sep  1     750.2 1917769 3513.1\n",
      "+ rain       1     596.5 1917923 3513.1\n",
      "+ Y          1     477.9 1918041 3513.1\n",
      "+ FFMC       1     143.4 1918376 3513.2\n",
      "+ month_oct  1      69.6 1918450 3513.2\n",
      "+ month_dec  1      51.4 1918468 3513.2\n",
      "- DC         1   21325.7 1939845 3513.8\n",
      "- month_jun  1   22447.1 1940966 3514.0\n",
      "- DMC        1   22870.8 1941390 3514.1\n",
      "- month_jul  1   28409.6 1946929 3515.3\n",
      "- month_aug  1   28469.6 1946989 3515.3\n",
      "- temp       1   31450.0 1949969 3515.9\n",
      "\n",
      "Step:  AIC=3509.86\n",
      "area ~ X + month_apr + month_aug + month_feb + month_jul + month_jun + \n",
      "    month_mar + DMC + DC + temp\n",
      "\n",
      "            Df Sum of Sq     RSS    AIC\n",
      "- month_feb  1    6651.9 1928165 3509.3\n",
      "- month_apr  1    7753.1 1929266 3509.5\n",
      "- X          1    8711.5 1930224 3509.7\n",
      "<none>                   1921513 3509.9\n",
      "- month_mar  1   14405.5 1935918 3510.9\n",
      "+ month_may  1    2993.5 1918519 3511.2\n",
      "+ wind       1    2729.0 1918784 3511.3\n",
      "+ RH         1    2567.9 1918945 3511.3\n",
      "+ month_jan  1    1889.8 1919623 3511.5\n",
      "+ ISI        1    1369.8 1920143 3511.6\n",
      "+ month_sep  1    1077.1 1920436 3511.6\n",
      "+ rain       1     682.7 1920830 3511.7\n",
      "+ Y          1     672.7 1920840 3511.7\n",
      "+ month_dec  1     473.9 1921039 3511.8\n",
      "+ month_oct  1      70.4 1921442 3511.8\n",
      "- DC         1   18648.8 1940162 3511.8\n",
      "+ FFMC       1      49.1 1921464 3511.8\n",
      "- month_jun  1   19454.1 1940967 3512.0\n",
      "- DMC        1   20475.7 1941988 3512.2\n",
      "- month_jul  1   25444.6 1946957 3513.3\n",
      "- month_aug  1   25497.2 1947010 3513.3\n",
      "- temp       1   30078.6 1951591 3514.3\n",
      "\n",
      "Step:  AIC=3509.28\n",
      "area ~ X + month_apr + month_aug + month_jul + month_jun + month_mar + \n",
      "    DMC + DC + temp\n",
      "\n",
      "            Df Sum of Sq     RSS    AIC\n",
      "- month_apr  1    2488.3 1930653 3507.8\n",
      "- X          1    7491.0 1935656 3508.9\n",
      "- month_mar  1    7941.6 1936106 3509.0\n",
      "<none>                   1928165 3509.3\n",
      "+ month_feb  1    6651.9 1921513 3509.9\n",
      "- month_jun  1   12871.3 1941036 3510.0\n",
      "- DC         1   12938.5 1941103 3510.0\n",
      "+ wind       1    3599.7 1924565 3510.5\n",
      "+ RH         1    3040.0 1925125 3510.6\n",
      "- DMC        1   15930.1 1944095 3510.7\n",
      "+ month_dec  1    2685.5 1925479 3510.7\n",
      "+ month_sep  1    1535.0 1926630 3511.0\n",
      "+ Y          1     939.7 1927225 3511.1\n",
      "+ ISI        1     886.2 1927278 3511.1\n",
      "+ rain       1     859.6 1927305 3511.1\n",
      "+ month_may  1     200.6 1927964 3511.2\n",
      "+ month_oct  1      53.6 1928111 3511.3\n",
      "+ month_jan  1      29.6 1928135 3511.3\n",
      "+ FFMC       1       0.6 1928164 3511.3\n",
      "- month_jul  1   18799.4 1946964 3511.3\n",
      "- month_aug  1   19284.2 1947449 3511.4\n",
      "- temp       1   30300.1 1958465 3513.7\n",
      "\n",
      "Step:  AIC=3507.82\n",
      "area ~ X + month_aug + month_jul + month_jun + month_mar + DMC + \n",
      "    DC + temp\n",
      "\n",
      "            Df Sum of Sq     RSS    AIC\n",
      "- month_mar  1    5727.0 1936380 3507.0\n",
      "- X          1    7136.5 1937789 3507.3\n",
      "<none>                   1930653 3507.8\n",
      "- DC         1   10474.1 1941127 3508.1\n",
      "- month_jun  1   10983.4 1941636 3508.2\n",
      "- DMC        1   14739.3 1945392 3509.0\n",
      "+ wind       1    3674.6 1926978 3509.0\n",
      "+ month_dec  1    3256.2 1927397 3509.1\n",
      "+ RH         1    2893.9 1927759 3509.2\n",
      "+ month_apr  1    2488.3 1928165 3509.3\n",
      "- month_jul  1   16761.1 1947414 3509.4\n",
      "+ month_sep  1    1659.7 1928993 3509.5\n",
      "+ month_feb  1    1387.1 1929266 3509.5\n",
      "- month_aug  1   17532.3 1948185 3509.6\n",
      "+ Y          1    1014.8 1929638 3509.6\n",
      "+ rain       1     899.8 1929753 3509.6\n",
      "+ ISI        1     861.1 1929792 3509.6\n",
      "+ month_oct  1      56.1 1930597 3509.8\n",
      "+ month_may  1      45.9 1930607 3509.8\n",
      "+ FFMC       1       1.8 1930651 3509.8\n",
      "+ month_jan  1       1.2 1930652 3509.8\n",
      "- temp       1   29450.4 1960103 3512.1\n",
      "\n",
      "Step:  AIC=3507.04\n",
      "area ~ X + month_aug + month_jul + month_jun + DMC + DC + temp\n",
      "\n",
      "            Df Sum of Sq     RSS    AIC\n",
      "- DC         1    4891.6 1941271 3506.1\n",
      "- month_jun  1    7089.8 1943470 3506.6\n",
      "- X          1    7617.9 1943998 3506.7\n",
      "<none>                   1936380 3507.0\n",
      "- DMC        1   11402.9 1947783 3507.5\n",
      "- month_jul  1   12239.8 1948620 3507.6\n",
      "+ month_mar  1    5727.0 1930653 3507.8\n",
      "- month_aug  1   13297.0 1949677 3507.9\n",
      "+ month_dec  1    4370.5 1932009 3508.1\n",
      "+ wind       1    2899.2 1933481 3508.4\n",
      "+ month_sep  1    2373.7 1934006 3508.5\n",
      "+ RH         1    1934.0 1934446 3508.6\n",
      "+ ISI        1    1292.3 1935088 3508.8\n",
      "+ rain       1    1074.1 1935306 3508.8\n",
      "+ Y          1    1048.9 1935331 3508.8\n",
      "+ FFMC       1     314.8 1936065 3509.0\n",
      "+ month_feb  1     275.1 1936105 3509.0\n",
      "+ month_apr  1     273.7 1936106 3509.0\n",
      "+ month_jan  1     193.8 1936186 3509.0\n",
      "+ month_oct  1     100.5 1936279 3509.0\n",
      "+ month_may  1      67.9 1936312 3509.0\n",
      "- temp       1   26268.4 1962648 3510.6\n",
      "\n",
      "Step:  AIC=3506.08\n",
      "area ~ X + month_aug + month_jul + month_jun + DMC + temp\n",
      "\n",
      "            Df Sum of Sq     RSS    AIC\n",
      "- month_jun  1    4461.1 1945732 3505.0\n",
      "- DMC        1    6525.4 1947797 3505.5\n",
      "- X          1    8192.9 1949464 3505.8\n",
      "- month_jul  1    8977.0 1950248 3506.0\n",
      "<none>                   1941271 3506.1\n",
      "- month_aug  1   10196.4 1951468 3506.2\n",
      "+ DC         1    4891.6 1936380 3507.0\n",
      "+ wind       1    3785.9 1937486 3507.3\n",
      "+ month_dec  1    3514.9 1937757 3507.3\n",
      "+ RH         1    3231.3 1938040 3507.4\n",
      "+ Y          1    1711.3 1939560 3507.7\n",
      "+ ISI        1    1430.0 1939841 3507.8\n",
      "+ rain       1    1117.1 1940154 3507.8\n",
      "+ month_feb  1    1102.4 1940169 3507.8\n",
      "+ month_sep  1     767.9 1940503 3507.9\n",
      "+ month_oct  1     714.5 1940557 3507.9\n",
      "+ FFMC       1     340.9 1940930 3508.0\n",
      "+ month_jan  1     275.5 1940996 3508.0\n",
      "+ month_may  1     257.4 1941014 3508.0\n",
      "+ month_mar  1     144.4 1941127 3508.1\n",
      "+ month_apr  1       8.0 1941263 3508.1\n",
      "- temp       1   21503.5 1962775 3508.6\n",
      "\n",
      "Step:  AIC=3505.03\n",
      "area ~ X + month_aug + month_jul + DMC + temp\n",
      "\n",
      "            Df Sum of Sq     RSS    AIC\n",
      "- X          1    6353.5 1952086 3504.4\n",
      "- DMC        1    7012.1 1952745 3504.5\n",
      "- month_jul  1    7595.9 1953328 3504.6\n",
      "- month_aug  1    8321.0 1954053 3504.8\n",
      "<none>                   1945732 3505.0\n",
      "+ month_jun  1    4461.1 1941271 3506.1\n",
      "+ RH         1    4152.8 1941580 3506.1\n",
      "+ wind       1    3431.8 1942301 3506.3\n",
      "+ month_dec  1    3426.3 1942306 3506.3\n",
      "+ ISI        1    2368.5 1943364 3506.5\n",
      "+ DC         1    2262.9 1943470 3506.6\n",
      "+ Y          1    1798.4 1943934 3506.6\n",
      "+ month_feb  1    1275.0 1944457 3506.8\n",
      "+ rain       1    1073.9 1944659 3506.8\n",
      "+ month_oct  1     507.7 1945225 3506.9\n",
      "+ FFMC       1     374.1 1945358 3507.0\n",
      "+ month_may  1     306.7 1945426 3507.0\n",
      "+ month_jan  1     251.7 1945481 3507.0\n",
      "- temp       1   18814.5 1964547 3507.0\n",
      "+ month_mar  1      37.7 1945695 3507.0\n",
      "+ month_sep  1      17.0 1945715 3507.0\n",
      "+ month_apr  1       0.2 1945732 3507.0\n",
      "\n",
      "Step:  AIC=3504.38\n",
      "area ~ month_aug + month_jul + DMC + temp\n",
      "\n",
      "            Df Sum of Sq     RSS    AIC\n",
      "- month_jul  1    6913.9 1959000 3503.8\n",
      "- DMC        1    7271.4 1959357 3503.9\n",
      "- month_aug  1    8887.4 1960973 3504.3\n",
      "<none>                   1952086 3504.4\n",
      "+ X          1    6353.5 1945732 3505.0\n",
      "+ Y          1    6210.9 1945875 3505.1\n",
      "+ wind       1    3589.3 1948497 3505.6\n",
      "+ RH         1    3274.7 1948811 3505.7\n",
      "+ month_dec  1    3121.6 1948964 3505.7\n",
      "+ DC         1    3032.4 1949053 3505.7\n",
      "+ month_jun  1    2621.6 1949464 3505.8\n",
      "+ ISI        1    1889.0 1950197 3506.0\n",
      "+ month_feb  1    1646.6 1950439 3506.0\n",
      "- temp       1   18036.1 1970122 3506.2\n",
      "+ rain       1     715.9 1951370 3506.2\n",
      "+ month_may  1     332.6 1951753 3506.3\n",
      "+ month_oct  1     318.0 1951768 3506.3\n",
      "+ FFMC       1     300.7 1951785 3506.3\n",
      "+ month_jan  1     129.7 1951956 3506.3\n",
      "+ month_sep  1      74.7 1952011 3506.4\n",
      "+ month_mar  1      53.2 1952033 3506.4\n",
      "+ month_apr  1      16.1 1952070 3506.4\n",
      "\n",
      "Step:  AIC=3503.84\n",
      "area ~ month_aug + DMC + temp\n",
      "\n",
      "            Df Sum of Sq     RSS    AIC\n",
      "- month_aug  1    5619.8 1964620 3503.0\n",
      "- DMC        1    6768.5 1965768 3503.3\n",
      "<none>                   1959000 3503.8\n",
      "+ month_jul  1    6913.9 1952086 3504.4\n",
      "+ X          1    5671.4 1953328 3504.6\n",
      "+ Y          1    5347.5 1953652 3504.7\n",
      "+ RH         1    5085.4 1953914 3504.8\n",
      "- temp       1   14133.8 1973134 3504.8\n",
      "+ wind       1    3225.5 1955774 3505.2\n",
      "+ month_dec  1    2927.9 1956072 3505.2\n",
      "+ ISI        1    2054.3 1956945 3505.4\n",
      "+ month_jun  1    1723.2 1957277 3505.5\n",
      "+ month_feb  1    1654.2 1957346 3505.5\n",
      "+ month_sep  1    1431.0 1957569 3505.5\n",
      "+ DC         1    1095.7 1957904 3505.6\n",
      "+ rain       1     810.2 1958190 3505.7\n",
      "+ month_may  1     389.4 1958610 3505.8\n",
      "+ FFMC       1     249.8 1958750 3505.8\n",
      "+ month_oct  1     179.7 1958820 3505.8\n",
      "+ month_jan  1     107.3 1958892 3505.8\n",
      "+ month_apr  1      26.9 1958973 3505.8\n",
      "+ month_mar  1       0.7 1958999 3505.8\n",
      "\n",
      "Step:  AIC=3503.02\n",
      "area ~ DMC + temp\n",
      "\n",
      "            Df Sum of Sq     RSS    AIC\n",
      "- DMC        1    3364.6 1967984 3501.7\n",
      "<none>                   1964620 3503.0\n",
      "- temp       1   11629.0 1976249 3503.5\n",
      "+ RH         1    6534.5 1958085 3503.6\n",
      "+ X          1    6267.8 1958352 3503.7\n",
      "+ month_sep  1    6233.2 1958386 3503.7\n",
      "+ month_aug  1    5619.8 1959000 3503.8\n",
      "+ Y          1    5395.4 1959224 3503.9\n",
      "+ month_jul  1    3646.2 1960973 3504.3\n",
      "+ ISI        1    3345.1 1961274 3504.3\n",
      "+ month_dec  1    2696.5 1961923 3504.5\n",
      "+ wind       1    2159.9 1962460 3504.6\n",
      "+ month_feb  1    1367.9 1963252 3504.7\n",
      "+ rain       1    1230.4 1963389 3504.8\n",
      "+ month_jun  1     917.1 1963702 3504.8\n",
      "+ DC         1     524.9 1964095 3504.9\n",
      "+ month_may  1     407.2 1964212 3504.9\n",
      "+ FFMC       1     231.4 1964388 3505.0\n",
      "+ month_oct  1     110.9 1964509 3505.0\n",
      "+ month_jan  1      68.0 1964552 3505.0\n",
      "+ month_apr  1      17.4 1964602 3505.0\n",
      "+ month_mar  1       3.9 1964616 3505.0\n",
      "\n",
      "Step:  AIC=3501.73\n",
      "area ~ temp\n",
      "\n",
      "            Df Sum of Sq     RSS    AIC\n",
      "<none>                   1967984 3501.7\n",
      "+ month_sep  1    7006.0 1960978 3502.3\n",
      "+ X          1    6274.5 1961710 3502.4\n",
      "+ Y          1    5632.0 1962352 3502.5\n",
      "+ month_jul  1    4139.7 1963844 3502.9\n",
      "+ DMC        1    3364.6 1964620 3503.0\n",
      "+ month_dec  1    2481.7 1965502 3503.2\n",
      "+ ISI        1    2413.3 1965571 3503.2\n",
      "+ RH         1    2336.5 1965648 3503.2\n",
      "+ month_aug  1    2215.8 1965768 3503.3\n",
      "+ wind       1    2202.3 1965782 3503.3\n",
      "+ month_jun  1    1311.0 1966673 3503.5\n",
      "+ rain       1     908.5 1967076 3503.5\n",
      "+ month_feb  1     573.9 1967410 3503.6\n",
      "+ month_oct  1     369.4 1967615 3503.6\n",
      "+ DC         1     267.7 1967716 3503.7\n",
      "+ month_mar  1     264.4 1967720 3503.7\n",
      "+ month_may  1     240.7 1967743 3503.7\n",
      "+ month_jan  1      26.3 1967958 3503.7\n",
      "+ month_apr  1      15.5 1967969 3503.7\n",
      "+ FFMC       1       3.1 1967981 3503.7\n",
      "- temp       1   22174.3 1990158 3504.4\n"
     ]
    }
   ],
   "source": [
    "model_1=step(lm(area~X+Y+month_apr+month_aug+month_dec+month_feb+month_jan+month_jul+month_jun+month_mar+month_may+month_nov+month_oct+month_sep+FFMC+DMC+DC+ISI+temp+RH+wind+rain,data=train.data),direction=\"both\")"
   ]
  },
  {
   "cell_type": "code",
   "execution_count": 22,
   "metadata": {},
   "outputs": [
    {
     "name": "stdout",
     "output_type": "stream",
     "text": [
      "\n",
      "Call:\n",
      "lm(formula = area ~ temp, data = train.data)\n",
      "\n",
      "Residuals:\n",
      "    Min      1Q  Median      3Q     Max \n",
      " -30.75  -15.96  -11.28   -3.19 1069.32 \n",
      "\n",
      "Coefficients:\n",
      "            Estimate Std. Error t value Pr(>|t|)  \n",
      "(Intercept) -10.2032    11.7096  -0.871    0.384  \n",
      "temp          1.2639     0.5873   2.152    0.032 *\n",
      "---\n",
      "Signif. codes:  0 '***' 0.001 '**' 0.01 '*' 0.05 '.' 0.1 ' ' 1\n",
      "\n",
      "Residual standard error: 69.2 on 411 degrees of freedom\n",
      "Multiple R-squared:  0.01114,\tAdjusted R-squared:  0.008736 \n",
      "F-statistic: 4.631 on 1 and 411 DF,  p-value: 0.03198\n",
      "\n"
     ]
    }
   ],
   "source": [
    "#summarizing the model\n",
    "model_1.sum <- summary(model_1)\n",
    "print(model_1.sum)"
   ]
  },
  {
   "cell_type": "code",
   "execution_count": 23,
   "metadata": {},
   "outputs": [
    {
     "name": "stdout",
     "output_type": "stream",
     "text": [
      "The MAE for the second model is: 13.16333\n",
      "The R2 for the second model is: 0.008735999"
     ]
    }
   ],
   "source": [
    "#predicting and calculating the error\n",
    "y_pred_1 = predict.lm(model_1, newdata = test.data)\n",
    "MAE_1=MAE((y_pred_1),(test_label))\n",
    "cat(\"The MAE for the second model is:\",MAE_1)\n",
    "cat(\"\\nThe R2 for the second model is:\",summary(model_1)$adj.r.square)"
   ]
  },
  {
   "cell_type": "markdown",
   "metadata": {},
   "source": [
    "#### Training model with interaction variables using step-wise function\n"
   ]
  },
  {
   "cell_type": "code",
   "execution_count": 24,
   "metadata": {},
   "outputs": [
    {
     "data": {
      "text/plain": [
       "area ~ X * Y + X * month_apr + X * month_aug + X * month_dec + \n",
       "    X * month_feb + X * month_jan + X * month_jul + X * month_jun + \n",
       "    X * month_mar + X * month_may + X * month_nov + X * month_oct + \n",
       "    X * month_sep + X * FFMC + X * DMC + X * DC + X * ISI + X * \n",
       "    temp + X * RH + X * wind + X * rain + Y * month_apr + Y * \n",
       "    month_aug + Y * month_dec + Y * month_feb + Y * month_jan + \n",
       "    Y * month_jul + Y * month_jun + Y * month_mar + Y * month_may + \n",
       "    Y * month_nov + Y * month_oct + Y * month_sep + Y * FFMC + \n",
       "    Y * DMC + Y * DC + Y * ISI + Y * temp + Y * RH + Y * wind + \n",
       "    Y * rain + month_apr * month_aug + month_apr * month_dec + \n",
       "    month_apr * month_feb + month_apr * month_jan + month_apr * \n",
       "    month_jul + month_apr * month_jun + month_apr * month_mar + \n",
       "    month_apr * month_may + month_apr * month_nov + month_apr * \n",
       "    month_oct + month_apr * month_sep + month_apr * FFMC + month_apr * \n",
       "    DMC + month_apr * DC + month_apr * ISI + month_apr * temp + \n",
       "    month_apr * RH + month_apr * wind + month_apr * rain + month_aug * \n",
       "    month_dec + month_aug * month_feb + month_aug * month_jan + \n",
       "    month_aug * month_jul + month_aug * month_jun + month_aug * \n",
       "    month_mar + month_aug * month_may + month_aug * month_nov + \n",
       "    month_aug * month_oct + month_aug * month_sep + month_aug * \n",
       "    FFMC + month_aug * DMC + month_aug * DC + month_aug * ISI + \n",
       "    month_aug * temp + month_aug * RH + month_aug * wind + month_aug * \n",
       "    rain + month_dec * month_feb + month_dec * month_jan + month_dec * \n",
       "    month_jul + month_dec * month_jun + month_dec * month_mar + \n",
       "    month_dec * month_may + month_dec * month_nov + month_dec * \n",
       "    month_oct + month_dec * month_sep + month_dec * FFMC + month_dec * \n",
       "    DMC + month_dec * DC + month_dec * ISI + month_dec * temp + \n",
       "    month_dec * RH + month_dec * wind + month_dec * rain + month_feb * \n",
       "    month_jan + month_feb * month_jul + month_feb * month_jun + \n",
       "    month_feb * month_mar + month_feb * month_may + month_feb * \n",
       "    month_nov + month_feb * month_oct + month_feb * month_sep + \n",
       "    month_feb * FFMC + month_feb * DMC + month_feb * DC + month_feb * \n",
       "    ISI + month_feb * temp + month_feb * RH + month_feb * wind + \n",
       "    month_feb * rain + month_jan * month_jul + month_jan * month_jun + \n",
       "    month_jan * month_mar + month_jan * month_may + month_jan * \n",
       "    month_nov + month_jan * month_oct + month_jan * month_sep + \n",
       "    month_jan * FFMC + month_jan * DMC + month_jan * DC + month_jan * \n",
       "    ISI + month_jan * temp + month_jan * RH + month_jan * wind + \n",
       "    month_jan * rain + month_jul * month_jun + month_jul * month_mar + \n",
       "    month_jul * month_may + month_jul * month_nov + month_jul * \n",
       "    month_oct + month_jul * month_sep + month_jul * FFMC + month_jul * \n",
       "    DMC + month_jul * DC + month_jul * ISI + month_jul * temp + \n",
       "    month_jul * RH + month_jul * wind + month_jul * rain + month_jun * \n",
       "    month_mar + month_jun * month_may + month_jun * month_nov + \n",
       "    month_jun * month_oct + month_jun * month_sep + month_jun * \n",
       "    FFMC + month_jun * DMC + month_jun * DC + month_jun * ISI + \n",
       "    month_jun * temp + month_jun * RH + month_jun * wind + month_jun * \n",
       "    rain + month_mar * month_may + month_mar * month_nov + month_mar * \n",
       "    month_oct + month_mar * month_sep + month_mar * FFMC + month_mar * \n",
       "    DMC + month_mar * DC + month_mar * ISI + month_mar * temp + \n",
       "    month_mar * RH + month_mar * wind + month_mar * rain + month_may * \n",
       "    month_nov + month_may * month_oct + month_may * month_sep + \n",
       "    month_may * FFMC + month_may * DMC + month_may * DC + month_may * \n",
       "    ISI + month_may * temp + month_may * RH + month_may * wind + \n",
       "    month_may * rain + month_nov * month_oct + month_nov * month_sep + \n",
       "    month_nov * FFMC + month_nov * DMC + month_nov * DC + month_nov * \n",
       "    ISI + month_nov * temp + month_nov * RH + month_nov * wind + \n",
       "    month_nov * rain + month_oct * month_sep + month_oct * FFMC + \n",
       "    month_oct * DMC + month_oct * DC + month_oct * ISI + month_oct * \n",
       "    temp + month_oct * RH + month_oct * wind + month_oct * rain + \n",
       "    month_sep * FFMC + month_sep * DMC + month_sep * DC + month_sep * \n",
       "    ISI + month_sep * temp + month_sep * RH + month_sep * wind + \n",
       "    month_sep * rain + FFMC * DMC + FFMC * DC + FFMC * ISI + \n",
       "    FFMC * temp + FFMC * RH + FFMC * wind + FFMC * rain + DMC * \n",
       "    DC + DMC * ISI + DMC * temp + DMC * RH + DMC * wind + DMC * \n",
       "    rain + DC * ISI + DC * temp + DC * RH + DC * wind + DC * \n",
       "    rain + ISI * temp + ISI * RH + ISI * wind + ISI * rain + \n",
       "    temp * RH + temp * wind + temp * rain + RH * wind + RH * \n",
       "    rain + wind * rain"
      ]
     },
     "metadata": {},
     "output_type": "display_data"
    }
   ],
   "source": [
    "#creating a form of all the possible combinations of interaction variable\n",
    "form = reformulate(apply(combn(names(dataset_1)[-grep(\"area\", names(dataset_1))], 2), 2, paste, collapse=\"*\"), \"area\")\n",
    "form"
   ]
  },
  {
   "cell_type": "code",
   "execution_count": 25,
   "metadata": {},
   "outputs": [],
   "source": [
    "#training the model using step function\n",
    "# mod = step(lm(form, data=dataset_1),direction=\"both\")\n",
    "# summary(mod)"
   ]
  },
  {
   "cell_type": "code",
   "execution_count": 26,
   "metadata": {},
   "outputs": [
    {
     "data": {
      "text/plain": [
       "\n",
       "Call:\n",
       "lm(formula = form, data = dataset_1)\n",
       "\n",
       "Residuals:\n",
       "    Min      1Q  Median      3Q     Max \n",
       " -73.79  -15.31   -6.39    0.96 1058.85 \n",
       "\n",
       "Coefficients:\n",
       "             Estimate Std. Error t value Pr(>|t|)   \n",
       "(Intercept) 25.448264  38.594528   0.659  0.50996   \n",
       "X           -6.169346   4.639681  -1.330  0.18422   \n",
       "Y           -6.809559   5.871120  -1.160  0.24666   \n",
       "month_aug   -9.769187   6.937593  -1.408  0.15970   \n",
       "DMC          0.413181   0.153756   2.687  0.00744 **\n",
       "temp        -1.535889   1.280711  -1.199  0.23099   \n",
       "RH           0.410394   0.330825   1.241  0.21536   \n",
       "wind        -5.773484   5.976321  -0.966  0.33448   \n",
       "X:temp       0.396805   0.220258   1.802  0.07221 . \n",
       "Y:wind       1.925416   1.372917   1.402  0.16140   \n",
       "DMC:RH      -0.006159   0.002625  -2.347  0.01934 * \n",
       "---\n",
       "Signif. codes:  0 '***' 0.001 '**' 0.01 '*' 0.05 '.' 0.1 ' ' 1\n",
       "\n",
       "Residual standard error: 62.96 on 506 degrees of freedom\n",
       "Multiple R-squared:  0.04072,\tAdjusted R-squared:  0.02176 \n",
       "F-statistic: 2.148 on 10 and 506 DF,  p-value: 0.01973\n"
      ]
     },
     "metadata": {},
     "output_type": "display_data"
    }
   ],
   "source": [
    "#saving the significant interaction variables generated by step function in a variable.\n",
    "form = area ~ X + Y + month_aug + DMC + temp + RH + wind + \n",
    "    X:temp + Y:wind + DMC:RH\n",
    "\n",
    "#now organizing the model and printing the summary of the model.\n",
    "model_1=lm(form, data=dataset_1)\n",
    "summary(model_1)"
   ]
  },
  {
   "cell_type": "code",
   "execution_count": 27,
   "metadata": {},
   "outputs": [
    {
     "name": "stdout",
     "output_type": "stream",
     "text": [
      "The MAE for the second model is: 12.00583\n",
      "The R2 for the second model is: 0.02176267"
     ]
    }
   ],
   "source": [
    "#predicting and calculating the error\n",
    "y_pred_1 = predict.lm(model_1, newdata = test.data)\n",
    "MAE_1=MAE(y_pred_1,test_label)\n",
    "cat(\"The MAE for the second model is:\",MAE_1)\n",
    "cat(\"\\nThe R2 for the second model is:\",summary(model_1)$adj.r.square)"
   ]
  },
  {
   "cell_type": "markdown",
   "metadata": {},
   "source": [
    "### Second model: Removing spacial coordinates and categorical value, and applying transformations "
   ]
  },
  {
   "cell_type": "markdown",
   "metadata": {},
   "source": [
    "- We remove month and day variable as they dont show any significance.\n",
    "- Carrying out various tranformations on the imbalanced and skewed variables to have a even spread and to improve the predictions\n",
    "- Also removing the X and Y which are the spacial coordinates of the area burned."
   ]
  },
  {
   "cell_type": "code",
   "execution_count": 28,
   "metadata": {},
   "outputs": [],
   "source": [
    "#Excluding all the spacial variables and categorical variables\n",
    "dataset_2 = dataset[,-c(4,3,1,2)]"
   ]
  },
  {
   "cell_type": "markdown",
   "metadata": {},
   "source": [
    "Log transforming the target variable "
   ]
  },
  {
   "cell_type": "code",
   "execution_count": 29,
   "metadata": {},
   "outputs": [],
   "source": [
    "#for loop for tranforming the area\n",
    "for (i in seq_along(dataset$area))\n",
    "{\n",
    "    dataset_2$area[i] <- log(dataset_2$area[i]+1)\n",
    "}"
   ]
  },
  {
   "cell_type": "code",
   "execution_count": 30,
   "metadata": {},
   "outputs": [
    {
     "data": {
      "text/html": [
       "<table>\n",
       "<thead><tr><th></th><th scope=col>frequencies</th><th scope=col>percentage</th><th scope=col>cumulativepercentage</th></tr></thead>\n",
       "<tbody>\n",
       "\t<tr><th scope=row>Totals</th><td>517       </td><td>100.000000</td><td>100.00000 </td></tr>\n",
       "\t<tr><th scope=row>91.6</th><td> 28       </td><td>  5.415861</td><td> 50.67698 </td></tr>\n",
       "\t<tr><th scope=row>92.1</th><td> 28       </td><td>  5.415861</td><td> 63.24952 </td></tr>\n",
       "\t<tr><th scope=row>91</th><td> 22       </td><td>  4.255319</td><td> 37.13733 </td></tr>\n",
       "\t<tr><th scope=row>91.7</th><td> 19       </td><td>  3.675048</td><td> 54.35203 </td></tr>\n",
       "</tbody>\n",
       "</table>\n"
      ],
      "text/latex": [
       "\\begin{tabular}{r|lll}\n",
       "  & frequencies & percentage & cumulativepercentage\\\\\n",
       "\\hline\n",
       "\tTotals & 517        & 100.000000 & 100.00000 \\\\\n",
       "\t91.6 &  28        &   5.415861 &  50.67698 \\\\\n",
       "\t92.1 &  28        &   5.415861 &  63.24952 \\\\\n",
       "\t91 &  22        &   4.255319 &  37.13733 \\\\\n",
       "\t91.7 &  19        &   3.675048 &  54.35203 \\\\\n",
       "\\end{tabular}\n"
      ],
      "text/markdown": [
       "\n",
       "| <!--/--> | frequencies | percentage | cumulativepercentage |\n",
       "|---|---|---|---|\n",
       "| Totals | 517        | 100.000000 | 100.00000  |\n",
       "| 91.6 |  28        |   5.415861 |  50.67698  |\n",
       "| 92.1 |  28        |   5.415861 |  63.24952  |\n",
       "| 91 |  22        |   4.255319 |  37.13733  |\n",
       "| 91.7 |  19        |   3.675048 |  54.35203  |\n",
       "\n"
      ],
      "text/plain": [
       "       frequencies percentage cumulativepercentage\n",
       "Totals 517         100.000000 100.00000           \n",
       "91.6    28           5.415861  50.67698           \n",
       "92.1    28           5.415861  63.24952           \n",
       "91      22           4.255319  37.13733           \n",
       "91.7    19           3.675048  54.35203           "
      ]
     },
     "metadata": {},
     "output_type": "display_data"
    }
   ],
   "source": [
    "#calculating the frequency table\n",
    "freq<-freqdist(dataset_2$FFMC)\n",
    "#setting them in decending order to see the highest frequency\n",
    "df <-head(freq[order(-freq$frequencies),],5)\n",
    "df #frequency table"
   ]
  },
  {
   "cell_type": "markdown",
   "metadata": {},
   "source": [
    "Using the tukey's tranformation on FFMC variable"
   ]
  },
  {
   "cell_type": "code",
   "execution_count": 31,
   "metadata": {},
   "outputs": [
    {
     "name": "stdout",
     "output_type": "stream",
     "text": [
      "\n",
      "    lambda     W Shapiro.p.value\n",
      "800  9.975 0.958       5.616e-11\n",
      "\n",
      "if (lambda >  0){TRANS = x ^ lambda} \n",
      "if (lambda == 0){TRANS = log(x)} \n",
      "if (lambda <  0){TRANS = -1 * x ^ lambda} \n",
      "\n"
     ]
    },
    {
     "data": {
      "image/png": "[encoded data removed]",
      "text/plain": [
       "Plot with title \"\""
      ]
     },
     "metadata": {},
     "output_type": "display_data"
    }
   ],
   "source": [
    "dataset_2$FFMC=transformTukey(dataset_2$FFMC,plotit=FALSE)\n",
    "#sizing the plot \n",
    "options(repr.plot.width=5, repr.plot.height=5)\n",
    "plotNormalHistogram((dataset_2$FFMC))"
   ]
  },
  {
   "cell_type": "markdown",
   "metadata": {},
   "source": [
    "Using Tukey's tranformation on DMC"
   ]
  },
  {
   "cell_type": "code",
   "execution_count": 32,
   "metadata": {},
   "outputs": [
    {
     "name": "stdout",
     "output_type": "stream",
     "text": [
      "\n",
      "    lambda      W Shapiro.p.value\n",
      "428  0.675 0.9819        4.86e-06\n",
      "\n",
      "if (lambda >  0){TRANS = x ^ lambda} \n",
      "if (lambda == 0){TRANS = log(x)} \n",
      "if (lambda <  0){TRANS = -1 * x ^ lambda} \n",
      "\n"
     ]
    },
    {
     "data": {
      "image/png": "[encoded data removed]",
      "text/plain": [
       "Plot with title \"\""
      ]
     },
     "metadata": {},
     "output_type": "display_data"
    }
   ],
   "source": [
    "x<-freqdist(dataset_2$DMC)\n",
    "df <-head(x[order(-x$frequencies),],10)\n",
    "dataset_2$DMC=transformTukey(dataset_2$DMC,plotit=FALSE)\n",
    "plotNormalHistogram((dataset_2$DMC))"
   ]
  },
  {
   "cell_type": "markdown",
   "metadata": {},
   "source": [
    "Using Box and cox tranformation method for DC, as other tranformations did not work quite well"
   ]
  },
  {
   "cell_type": "code",
   "execution_count": 33,
   "metadata": {},
   "outputs": [
    {
     "data": {
      "image/png": "[encoded data removed]",
      "text/plain": [
       "plot without title"
      ]
     },
     "metadata": {},
     "output_type": "display_data"
    },
    {
     "data": {
      "image/png": "[encoded data removed]",
      "text/plain": [
       "Plot with title \"\""
      ]
     },
     "metadata": {},
     "output_type": "display_data"
    }
   ],
   "source": [
    "# Transform Turbidity as a single vector and  # Try values -6 to 6 by 0.1\n",
    "Box = boxcox(dataset_2$DC ~ 1, lambda = seq(-6,6,0.1))\n",
    "Cox = data.frame(Box$x, Box$y)            # Create a data frame with the results\n",
    "Cox2 = Cox[with(Cox, order(-Cox$Box.y)),] # Order the new data frame by decreasing y\n",
    "lambda = Cox2[1, \"Box.x\"]                 # Extract that lambda\n",
    "dataset_2$DC = (dataset_2$DC ^ lambda - 1)/lambda   # Transform the original data\n",
    "plotNormalHistogram(dataset_2$DC)"
   ]
  },
  {
   "cell_type": "markdown",
   "metadata": {},
   "source": [
    "Using the Tukey's tranformation on ISI"
   ]
  },
  {
   "cell_type": "code",
   "execution_count": 34,
   "metadata": {},
   "outputs": [
    {
     "name": "stdout",
     "output_type": "stream",
     "text": [
      "\n",
      "    lambda      W Shapiro.p.value\n",
      "420  0.475 0.9625       3.344e-10\n",
      "\n",
      "if (lambda >  0){TRANS = x ^ lambda} \n",
      "if (lambda == 0){TRANS = log(x)} \n",
      "if (lambda <  0){TRANS = -1 * x ^ lambda} \n",
      "\n"
     ]
    },
    {
     "data": {
      "image/png": "[encoded data removed]",
      "text/plain": [
       "Plot with title \"\""
      ]
     },
     "metadata": {},
     "output_type": "display_data"
    }
   ],
   "source": [
    "dataset_2$ISI=transformTukey(dataset_2$ISI,plotit=FALSE)\n",
    "plotNormalHistogram((dataset_2$ISI))"
   ]
  },
  {
   "cell_type": "markdown",
   "metadata": {},
   "source": [
    "Using Tukey's tranformation on rain"
   ]
  },
  {
   "cell_type": "code",
   "execution_count": 35,
   "metadata": {},
   "outputs": [
    {
     "name": "stdout",
     "output_type": "stream",
     "text": [
      "\n",
      "    lambda      W Shapiro.p.value\n",
      "405    0.1 0.1012       9.254e-44\n",
      "\n",
      "if (lambda >  0){TRANS = x ^ lambda} \n",
      "if (lambda == 0){TRANS = log(x)} \n",
      "if (lambda <  0){TRANS = -1 * x ^ lambda} \n",
      "\n"
     ]
    },
    {
     "data": {
      "image/png": "[encoded data removed]",
      "text/plain": [
       "Plot with title \"\""
      ]
     },
     "metadata": {},
     "output_type": "display_data"
    }
   ],
   "source": [
    "dataset_2$rain=transformTukey(dataset_2$rain,plotit=FALSE)\n",
    "plotNormalHistogram((dataset_2$rain))"
   ]
  },
  {
   "cell_type": "markdown",
   "metadata": {},
   "source": [
    "#### Building the model"
   ]
  },
  {
   "cell_type": "code",
   "execution_count": 36,
   "metadata": {},
   "outputs": [],
   "source": [
    "# divide testing and training\n",
    "# 80% train and 20% test\n",
    "set.seed(123)\n",
    "\n",
    "sample_size <- floor(0.8 * nrow(dataset_2))\n",
    "\n",
    "train_ind <- sample(seq_len(nrow(dataset_2)), size = sample_size)\n",
    "\n",
    "train.data <- dataset_2[train_ind,]\n",
    "test.data <- dataset_2[-train_ind,]"
   ]
  },
  {
   "cell_type": "code",
   "execution_count": 37,
   "metadata": {},
   "outputs": [],
   "source": [
    "# spliting data and labels seprate.\n",
    "train_data <- as.matrix(train.data[,-9])\n",
    "train_label <- as.matrix(train.data[,9], drop=false)\n",
    "test_data <- as.matrix(test.data[,-9])\n",
    "test_label <- as.matrix(test.data[,9], drop=false)"
   ]
  },
  {
   "cell_type": "code",
   "execution_count": 38,
   "metadata": {},
   "outputs": [
    {
     "name": "stdout",
     "output_type": "stream",
     "text": [
      "\n",
      "Call:\n",
      "lm(formula = area ~ ., data = train.data)\n",
      "\n",
      "Residuals:\n",
      "    Min      1Q  Median      3Q     Max \n",
      "-1.7168 -1.1254 -0.5084  0.8837  5.6499 \n",
      "\n",
      "Coefficients:\n",
      "              Estimate Std. Error t value Pr(>|t|)  \n",
      "(Intercept)  9.437e-01  5.666e-01   1.666   0.0966 .\n",
      "FFMC         6.495e-21  1.346e-20   0.482   0.6298  \n",
      "DMC          1.671e-02  1.240e-02   1.347   0.1788  \n",
      "DC           1.017e-05  3.939e-05   0.258   0.7964  \n",
      "ISI         -2.732e-01  1.883e-01  -1.451   0.1477  \n",
      "temp         7.489e-03  1.977e-02   0.379   0.7051  \n",
      "RH          -4.000e-03  5.980e-03  -0.669   0.5040  \n",
      "wind         8.082e-02  4.220e-02   1.915   0.0562 .\n",
      "rain        -1.079e+00  6.613e-01  -1.631   0.1037  \n",
      "---\n",
      "Signif. codes:  0 '***' 0.001 '**' 0.01 '*' 0.05 '.' 0.1 ' ' 1\n",
      "\n",
      "Residual standard error: 1.413 on 404 degrees of freedom\n",
      "Multiple R-squared:  0.03258,\tAdjusted R-squared:  0.01342 \n",
      "F-statistic: 1.701 on 8 and 404 DF,  p-value: 0.0964\n",
      "\n"
     ]
    }
   ],
   "source": [
    "#fitting the model 2\n",
    "model_2 <- lm(area~. , data = train.data)\n",
    "model_2.sum <- summary(model_2)\n",
    "print(model_2.sum)"
   ]
  },
  {
   "cell_type": "code",
   "execution_count": 39,
   "metadata": {},
   "outputs": [
    {
     "name": "stdout",
     "output_type": "stream",
     "text": [
      "The MAE for the second model is: 8.994946\n",
      "The R2 for the second model is: 0.002053625"
     ]
    }
   ],
   "source": [
    "#predicting and calculating the error\n",
    "y_pred_2 = predict.lm(model_2, newdata = test.data)\n",
    "MAE=MAE((exp(y_pred_2)-1),(exp(test_label)-1))\n",
    "Rsquare = R2(y_pred_2, test_label)\n",
    "cat(\"The MAE for the second model is:\",MAE)\n",
    "cat(\"\\nThe R2 for the second model is:\",Rsquare)"
   ]
  },
  {
   "cell_type": "code",
   "execution_count": 40,
   "metadata": {},
   "outputs": [
    {
     "name": "stdout",
     "output_type": "stream",
     "text": [
      "Start:  AIC=294.3\n",
      "area ~ FFMC + DMC + DC + ISI + temp + RH + wind + rain\n",
      "\n",
      "       Df Sum of Sq    RSS    AIC\n",
      "- DC    1    0.1330 806.43 292.37\n",
      "- temp  1    0.2863 806.58 292.44\n",
      "- FFMC  1    0.4644 806.76 292.54\n",
      "- RH    1    0.8929 807.19 292.75\n",
      "- DMC   1    3.6201 809.91 294.15\n",
      "<none>              806.29 294.30\n",
      "- ISI   1    4.1991 810.49 294.44\n",
      "- rain  1    5.3097 811.60 295.01\n",
      "- wind  1    7.3212 813.62 296.03\n",
      "\n",
      "Step:  AIC=292.37\n",
      "area ~ FFMC + DMC + ISI + temp + RH + wind + rain\n",
      "\n",
      "       Df Sum of Sq    RSS    AIC\n",
      "- temp  1    0.3235 806.75 290.53\n",
      "- FFMC  1    0.4833 806.91 290.61\n",
      "- RH    1    0.8753 807.30 290.81\n",
      "<none>              806.43 292.37\n",
      "- ISI   1    4.3553 810.78 292.59\n",
      "- rain  1    5.4092 811.84 293.13\n",
      "- DMC   1    6.9578 813.38 293.91\n",
      "- wind  1    7.1890 813.62 294.03\n",
      "+ DC    1    0.1330 806.29 294.30\n",
      "\n",
      "Step:  AIC=290.53\n",
      "area ~ FFMC + DMC + ISI + RH + wind + rain\n",
      "\n",
      "       Df Sum of Sq    RSS    AIC\n",
      "- FFMC  1    0.6167 807.37 288.85\n",
      "- RH    1    2.3482 809.10 289.73\n",
      "<none>              806.75 290.53\n",
      "- ISI   1    4.2399 810.99 290.70\n",
      "- rain  1    5.1855 811.94 291.18\n",
      "- wind  1    6.8715 813.62 292.03\n",
      "+ temp  1    0.3235 806.43 292.37\n",
      "+ DC    1    0.1701 806.58 292.44\n",
      "- DMC   1   10.3505 817.10 293.80\n",
      "\n",
      "Step:  AIC=288.85\n",
      "area ~ DMC + ISI + RH + wind + rain\n",
      "\n",
      "       Df Sum of Sq    RSS    AIC\n",
      "<none>              807.37 288.85\n",
      "- RH    1    4.1642 811.53 288.97\n",
      "- rain  1    4.7395 812.11 289.26\n",
      "- ISI   1    5.1200 812.49 289.46\n",
      "- wind  1    6.3370 813.70 290.08\n",
      "+ FFMC  1    0.6167 806.75 290.53\n",
      "+ temp  1    0.4568 806.91 290.61\n",
      "+ DC    1    0.2030 807.16 290.74\n",
      "- DMC   1   15.2015 822.57 294.55\n"
     ]
    }
   ],
   "source": [
    "#step function \n",
    "model_2=step(lm(area~FFMC+DMC+DC+ISI+temp+RH+wind+rain,data=train.data),direction=\"both\")"
   ]
  },
  {
   "cell_type": "code",
   "execution_count": 41,
   "metadata": {},
   "outputs": [
    {
     "name": "stdout",
     "output_type": "stream",
     "text": [
      "\n",
      "Call:\n",
      "lm(formula = area ~ DMC + ISI + RH + wind + rain, data = train.data)\n",
      "\n",
      "Residuals:\n",
      "    Min      1Q  Median      3Q     Max \n",
      "-1.7187 -1.1318 -0.5085  0.8817  5.6827 \n",
      "\n",
      "Coefficients:\n",
      "             Estimate Std. Error t value Pr(>|t|)   \n",
      "(Intercept)  1.168826   0.414739   2.818  0.00506 **\n",
      "DMC          0.022453   0.008111   2.768  0.00589 **\n",
      "ISI         -0.193512   0.120451  -1.607  0.10893   \n",
      "RH          -0.006461   0.004459  -1.449  0.14815   \n",
      "wind         0.071071   0.039764   1.787  0.07463 . \n",
      "rain        -0.997650   0.645431  -1.546  0.12295   \n",
      "---\n",
      "Signif. codes:  0 '***' 0.001 '**' 0.01 '*' 0.05 '.' 0.1 ' ' 1\n",
      "\n",
      "Residual standard error: 1.408 on 407 degrees of freedom\n",
      "Multiple R-squared:  0.03129,\tAdjusted R-squared:  0.01939 \n",
      "F-statistic: 2.629 on 5 and 407 DF,  p-value: 0.02351\n",
      "\n"
     ]
    }
   ],
   "source": [
    "#printing in the summary of the model\n",
    "model_2.sum <- summary(model_2)\n",
    "print(model_2.sum)"
   ]
  },
  {
   "cell_type": "code",
   "execution_count": 42,
   "metadata": {},
   "outputs": [
    {
     "name": "stdout",
     "output_type": "stream",
     "text": [
      "The MAE for the second model is: 8.99089\n",
      "The R2 for the second model is: 0.002514718"
     ]
    }
   ],
   "source": [
    "#predicting and calculating the error\n",
    "y_pred_2 = predict.lm(model_2, newdata = test.data)\n",
    "MAE=MAE((exp(y_pred_2)-1),(exp(test_label)-1))\n",
    "Rsquare = R2(y_pred_2, test_label)\n",
    "cat(\"The MAE for the second model is:\",MAE)\n",
    "cat(\"\\nThe R2 for the second model is:\",Rsquare)"
   ]
  },
  {
   "cell_type": "markdown",
   "metadata": {},
   "source": [
    "Now, lets try and improve the accuracy using interaction variables"
   ]
  },
  {
   "cell_type": "code",
   "execution_count": 43,
   "metadata": {},
   "outputs": [
    {
     "data": {
      "text/plain": [
       "area ~ FFMC * DMC + FFMC * DC + FFMC * ISI + FFMC * temp + FFMC * \n",
       "    RH + FFMC * wind + FFMC * rain + DMC * DC + DMC * ISI + DMC * \n",
       "    temp + DMC * RH + DMC * wind + DMC * rain + DC * ISI + DC * \n",
       "    temp + DC * RH + DC * wind + DC * rain + ISI * temp + ISI * \n",
       "    RH + ISI * wind + ISI * rain + temp * RH + temp * wind + \n",
       "    temp * rain + RH * wind + RH * rain + wind * rain"
      ]
     },
     "metadata": {},
     "output_type": "display_data"
    }
   ],
   "source": [
    "#creating a form of all the possible combinations of interaction variable\n",
    "form = reformulate(apply(combn(names(dataset_2)[-grep(\"area\", names(dataset_2))], 2), 2, paste, collapse=\"*\"), \"area\")\n",
    "form"
   ]
  },
  {
   "cell_type": "markdown",
   "metadata": {},
   "source": [
    "- We use the step-wise selection method to toggle through all the different combinations of independent variables and interaction variables, using both forward and backward propogation.\n",
    "- The below code takes couple of minutes to run, as it has to try out all the different variables, both forward and backward. "
   ]
  },
  {
   "cell_type": "code",
   "execution_count": 44,
   "metadata": {},
   "outputs": [],
   "source": [
    "#training the model using step function\n",
    "# mod = step(lm(form, data=dataset_2),direction=\"both\")\n",
    "# summary(mod)"
   ]
  },
  {
   "cell_type": "code",
   "execution_count": 45,
   "metadata": {},
   "outputs": [
    {
     "data": {
      "text/plain": [
       "\n",
       "Call:\n",
       "lm(formula = form, data = dataset_2)\n",
       "\n",
       "Residuals:\n",
       "    Min      1Q  Median      3Q     Max \n",
       "-1.5806 -1.0867 -0.5440  0.8368  5.7088 \n",
       "\n",
       "Coefficients:\n",
       "              Estimate Std. Error t value Pr(>|t|)   \n",
       "(Intercept) -1.107e+00  7.427e-01  -1.491  0.13662   \n",
       "DC           1.521e-04  7.096e-05   2.143  0.03256 * \n",
       "temp         6.360e-02  3.039e-02   2.093  0.03687 * \n",
       "RH           1.166e-02  7.832e-03   1.489  0.13722   \n",
       "wind         3.163e-01  1.029e-01   3.074  0.00223 **\n",
       "rain        -3.545e+00  2.027e+00  -1.749  0.08096 . \n",
       "DC:RH       -2.510e-06  1.365e-06  -1.839  0.06654 . \n",
       "temp:wind   -1.327e-02  5.698e-03  -2.329  0.02027 * \n",
       "temp:rain    1.409e-01  9.539e-02   1.478  0.14012   \n",
       "---\n",
       "Signif. codes:  0 '***' 0.001 '**' 0.01 '*' 0.05 '.' 0.1 ' ' 1\n",
       "\n",
       "Residual standard error: 1.384 on 508 degrees of freedom\n",
       "Multiple R-squared:  0.0358,\tAdjusted R-squared:  0.02061 \n",
       "F-statistic: 2.358 on 8 and 508 DF,  p-value: 0.01698\n"
      ]
     },
     "metadata": {},
     "output_type": "display_data"
    }
   ],
   "source": [
    "#saving the significant interaction variables generated by step function in a variable.\n",
    "form = area ~ DC + temp + RH + wind + rain + DC:RH + temp:wind + \n",
    "    temp:rain\n",
    "\n",
    "#now organizing the model and printing the summary of the model.\n",
    "model_2=lm(form, data=dataset_2)\n",
    "summary(model_2)"
   ]
  },
  {
   "cell_type": "code",
   "execution_count": 46,
   "metadata": {},
   "outputs": [
    {
     "data": {
      "image/png": "[encoded data removed]",
      "text/plain": [
       "Plot with title \"\""
      ]
     },
     "metadata": {},
     "output_type": "display_data"
    }
   ],
   "source": [
    "#plotting the model and checking its performance\n",
    "par(mfrow = c(2,2))\n",
    "options(repr.plot.width=7, repr.plot.height=7)\n",
    "plot(model_2) "
   ]
  },
  {
   "cell_type": "code",
   "execution_count": 47,
   "metadata": {},
   "outputs": [
    {
     "name": "stdout",
     "output_type": "stream",
     "text": [
      "The MAE for the second model is: 8.813677\n",
      "The R2 for the second model is: 0.02224437"
     ]
    }
   ],
   "source": [
    "#predicting and calculating the error\n",
    "y_pred_2 = predict.lm(model_2, newdata = test.data)\n",
    "MAE_2=MAE((exp(y_pred_2)-1),(exp(test_label)-1))\n",
    "Rsquare_2 = R2(y_pred_2, test_label)\n",
    "cat(\"The MAE for the second model is:\",MAE_2)\n",
    "cat(\"\\nThe R2 for the second model is:\",Rsquare_2)"
   ]
  },
  {
   "cell_type": "markdown",
   "metadata": {},
   "source": [
    "- Above, we are predicting the areas for the test data which we had excluded before training the model and also checking the mean square error of the model. \n",
    "- Higher R-square value and lower MAE resembles our model is good and reliable.\n",
    "- We have managed to get a mean absolute error of 8.81 R2 of 0.02"
   ]
  },
  {
   "cell_type": "markdown",
   "metadata": {},
   "source": [
    "### Third Model : Using Lasso, Ridge and Elastic net regression"
   ]
  },
  {
   "cell_type": "code",
   "execution_count": 48,
   "metadata": {},
   "outputs": [],
   "source": [
    "#Removing the outliers detected from the above model\n",
    "dataset_3 = dataset_2[-c(239,416,480,500,4),]\n",
    "#excluding the days as it seems quite general and doesnt seem to have a major effect."
   ]
  },
  {
   "cell_type": "code",
   "execution_count": 49,
   "metadata": {},
   "outputs": [],
   "source": [
    "#penalizing factor\n",
    "lambda <- 10^seq(-3, 3, length = 100)"
   ]
  },
  {
   "cell_type": "code",
   "execution_count": 50,
   "metadata": {},
   "outputs": [],
   "source": [
    "# divide testing and training\n",
    "# 80% train and 20% test\n",
    "set.seed(123)\n",
    "\n",
    "sample_size <- floor(0.8 * nrow(dataset_3))\n",
    "\n",
    "train_ind <- sample(seq_len(nrow(dataset_3)), size = sample_size)\n",
    "\n",
    "train.data <- dataset_3[train_ind,]\n",
    "test.data <- dataset_3[-train_ind,]"
   ]
  },
  {
   "cell_type": "code",
   "execution_count": 51,
   "metadata": {},
   "outputs": [
    {
     "name": "stderr",
     "output_type": "stream",
     "text": [
      "Warning message in nominalTrainWorkflow(x = x, y = y, wts = weights, info = trainInfo, :\n",
      "\"There were missing values in resampled performance measures.\""
     ]
    },
    {
     "data": {
      "text/plain": [
       "9 x 1 sparse Matrix of class \"dgCMatrix\"\n",
       "                        1\n",
       "(Intercept)  9.602594e-01\n",
       "FFMC        -7.601901e-22\n",
       "DMC          3.635220e-03\n",
       "DC           1.474594e-05\n",
       "ISI         -4.083408e-02\n",
       "temp        -3.163539e-04\n",
       "RH          -9.656524e-04\n",
       "wind         4.390948e-02\n",
       "rain        -4.890895e-01"
      ]
     },
     "metadata": {},
     "output_type": "display_data"
    },
    {
     "data": {
      "text/html": [
       "<table>\n",
       "<thead><tr><th scope=col>MAE_ridge</th><th scope=col>Rsquare_ridge</th></tr></thead>\n",
       "<tbody>\n",
       "\t<tr><td>9.458777   </td><td>0.005526098</td></tr>\n",
       "</tbody>\n",
       "</table>\n"
      ],
      "text/latex": [
       "\\begin{tabular}{r|ll}\n",
       " MAE\\_ridge & Rsquare\\_ridge\\\\\n",
       "\\hline\n",
       "\t 9.458777    & 0.005526098\\\\\n",
       "\\end{tabular}\n"
      ],
      "text/markdown": [
       "\n",
       "| MAE_ridge | Rsquare_ridge |\n",
       "|---|---|\n",
       "| 9.458777    | 0.005526098 |\n",
       "\n"
      ],
      "text/plain": [
       "  MAE_ridge Rsquare_ridge\n",
       "1 9.458777  0.005526098  "
      ]
     },
     "metadata": {},
     "output_type": "display_data"
    }
   ],
   "source": [
    "# Building the ridge regression model\n",
    "set.seed(123)\n",
    "ridge <- train(\n",
    "  area ~., data = train.data, method = \"glmnet\",\n",
    "  trControl = trainControl(\"cv\", number = 10),\n",
    "  tuneGrid = expand.grid(alpha = 0, lambda = lambda)\n",
    "  )\n",
    "# Model coefficients\n",
    "coef(ridge$finalModel, ridge$bestTune$lambda)\n",
    "# Make predictions\n",
    "predictions <- ridge %>% predict(test.data)\n",
    "# Model prediction performance\n",
    "data.frame(\n",
    "    MAE_ridge = MAE((exp(predictions)-1), (exp(test.data$area)-1)),\n",
    "  Rsquare_ridge = R2(predictions, test.data$area)\n",
    ")"
   ]
  },
  {
   "cell_type": "code",
   "execution_count": 52,
   "metadata": {},
   "outputs": [
    {
     "name": "stderr",
     "output_type": "stream",
     "text": [
      "Warning message in nominalTrainWorkflow(x = x, y = y, wts = weights, info = trainInfo, :\n",
      "\"There were missing values in resampled performance measures.\""
     ]
    },
    {
     "data": {
      "text/plain": [
       "9 x 1 sparse Matrix of class \"dgCMatrix\"\n",
       "                        1\n",
       "(Intercept)  8.126885e-01\n",
       "FFMC         .           \n",
       "DMC          .           \n",
       "DC           1.642471e-05\n",
       "ISI          .           \n",
       "temp         .           \n",
       "RH           .           \n",
       "wind         5.233290e-02\n",
       "rain        -4.448851e-01"
      ]
     },
     "metadata": {},
     "output_type": "display_data"
    },
    {
     "data": {
      "text/html": [
       "<table>\n",
       "<thead><tr><th scope=col>MAE_lasso</th><th scope=col>Rsquare_lasso</th></tr></thead>\n",
       "<tbody>\n",
       "\t<tr><td>9.454585   </td><td>0.002297811</td></tr>\n",
       "</tbody>\n",
       "</table>\n"
      ],
      "text/latex": [
       "\\begin{tabular}{r|ll}\n",
       " MAE\\_lasso & Rsquare\\_lasso\\\\\n",
       "\\hline\n",
       "\t 9.454585    & 0.002297811\\\\\n",
       "\\end{tabular}\n"
      ],
      "text/markdown": [
       "\n",
       "| MAE_lasso | Rsquare_lasso |\n",
       "|---|---|\n",
       "| 9.454585    | 0.002297811 |\n",
       "\n"
      ],
      "text/plain": [
       "  MAE_lasso Rsquare_lasso\n",
       "1 9.454585  0.002297811  "
      ]
     },
     "metadata": {},
     "output_type": "display_data"
    }
   ],
   "source": [
    "#building the lasso regression model\n",
    "set.seed(123)\n",
    "lasso <- train(\n",
    "  area ~., data = train.data, method = \"glmnet\",\n",
    "  trControl = trainControl(\"cv\", number = 10),\n",
    "  tuneGrid = expand.grid(alpha = 1, lambda = lambda)\n",
    "  )\n",
    "# Model coefficients\n",
    "coef(lasso$finalModel, lasso$bestTune$lambda)\n",
    "# Make predictions\n",
    "predictions <- lasso %>% predict(test.data)\n",
    "# Model prediction performance\n",
    "data.frame(\n",
    "    MAE_lasso = MAE((exp(predictions)-1), (exp(test.data$area)-1)),\n",
    "  Rsquare_lasso = R2(predictions, test.data$area)\n",
    ")"
   ]
  },
  {
   "cell_type": "code",
   "execution_count": 53,
   "metadata": {},
   "outputs": [
    {
     "name": "stderr",
     "output_type": "stream",
     "text": [
      "Warning message in nominalTrainWorkflow(x = x, y = y, wts = weights, info = trainInfo, :\n",
      "\"There were missing values in resampled performance measures.\""
     ]
    },
    {
     "data": {
      "text/plain": [
       "9 x 1 sparse Matrix of class \"dgCMatrix\"\n",
       "                        1\n",
       "(Intercept)  8.018301e-01\n",
       "FFMC         .           \n",
       "DMC          .           \n",
       "DC           1.783325e-05\n",
       "ISI         -1.787473e-03\n",
       "temp         .           \n",
       "RH           .           \n",
       "wind         5.453389e-02\n",
       "rain        -4.776242e-01"
      ]
     },
     "metadata": {},
     "output_type": "display_data"
    },
    {
     "data": {
      "text/html": [
       "<table>\n",
       "<thead><tr><th scope=col>MAE_elastic</th><th scope=col>Rsquare_elastic</th></tr></thead>\n",
       "<tbody>\n",
       "\t<tr><td>9.454687   </td><td>0.002486942</td></tr>\n",
       "</tbody>\n",
       "</table>\n"
      ],
      "text/latex": [
       "\\begin{tabular}{r|ll}\n",
       " MAE\\_elastic & Rsquare\\_elastic\\\\\n",
       "\\hline\n",
       "\t 9.454687    & 0.002486942\\\\\n",
       "\\end{tabular}\n"
      ],
      "text/markdown": [
       "\n",
       "| MAE_elastic | Rsquare_elastic |\n",
       "|---|---|\n",
       "| 9.454687    | 0.002486942 |\n",
       "\n"
      ],
      "text/plain": [
       "  MAE_elastic Rsquare_elastic\n",
       "1 9.454687    0.002486942    "
      ]
     },
     "metadata": {},
     "output_type": "display_data"
    }
   ],
   "source": [
    "# Building the elastic net regression model\n",
    "set.seed(123)\n",
    "elastic <- train(\n",
    "  area ~., data = train.data, method = \"glmnet\",\n",
    "  trControl = trainControl(\"cv\", number = 10),\n",
    "  tuneLength = 10\n",
    "  )\n",
    "# Model coefficients\n",
    "coef(elastic$finalModel, elastic$bestTune$lambda)\n",
    "# Make predictions\n",
    "predictions <- elastic %>% predict(test.data)\n",
    "# Model prediction performance\n",
    "data.frame(\n",
    "    MAE_elastic = MAE((exp(predictions)-1), (exp(test.data$area)-1)),\n",
    "  Rsquare_elastic = R2(predictions, test.data$area)\n",
    ")"
   ]
  },
  {
   "cell_type": "markdown",
   "metadata": {},
   "source": [
    "## 4. Model Comparison<a class=\"anchor\" id=\"sec_4\"></a>"
   ]
  },
  {
   "cell_type": "markdown",
   "metadata": {},
   "source": [
    "From the above trained models and their predictions we now resort to model comparison and see which model is the best and which should be choosen or is more reliable when it comes to predicting forest fires.\n",
    "\n",
    "- Model 1 : Simple Linear Regression with all the variables\n",
    "    - In here, we have included on the variables for the predictions and have used one hot encoding for converting the month variable.\n",
    "    - After running the simple model, then running step-wise selection process and then followed by trying out possible interaction variables, we managed to get a Mean absolute error of 12.001 and R-squared value of 0.021\n",
    "\n",
    "- Model 2: Linear Regression by removing spacial coordinates and categorical value, and applying transformations \n",
    "    - In here, we have excluded the spacial coordinates, month and days from the dataset, as it had no correlation with the target.\n",
    "    - Here we tranformed all the skewed and unbalanced variables including the target variable, then using step function and interaction variables, we achieved a better MAE of 8.81 and R-squared value of 0.022\n",
    "    \n",
    "- Model 3: Lasso, Ridge and Elastic net Regression (Penalized Regression)\n",
    "    - In this model, there are further more three models which are penalized regression, it involves adding a regularization term or lambda to the cost function of the model. \n",
    "    - For this we carry forwarded the tranformed dataset for training these models. On doing this we ended up with a MAE of 9.45 and R-squared value 0.005 for ridge, 0.0022 for lasso and 0.0024 for elastic net."
   ]
  },
  {
   "cell_type": "markdown",
   "metadata": {},
   "source": [
    "##### Comparison : \n",
    "So in model 1, I included all the numeric variables without the tranforming them to check how well it predicts the area and how low the mean absolute error is. I ran step wise function with interaction variables to get to the best MAE possible that that was 12.001, then in the second model I removed the insignificant variables like X,Y,Month and day and ran tranformation like tukley and boxcox to normalize the predictor variable, and as expected it improved and MAE came down to 8.81 which is by far the lowest. For the third model, I went ahead and trained three penalized regression models, by setting a lambda of -3 to +3, after adding the penalty factor and using glmnet I got a MAE of 9.45 which is higher than the previous model.\n",
    "Hence I will go for Model 2 for predicting the area burned for any unknown values."
   ]
  },
  {
   "cell_type": "markdown",
   "metadata": {},
   "source": [
    "## 5. Variable Identification and Explanation <a class=\"anchor\" id=\"sec_5\"></a>"
   ]
  },
  {
   "cell_type": "markdown",
   "metadata": {},
   "source": [
    "Below is the explaination for choosing the variables that have been used in the training of all the three models:\n",
    "- 1st Model : For this model, I got some insights from the Exploratory data analysis that I had prior to building the models. I eyeballed that the area which is the target variable for the model is very unbalanced. Then I saw that the day variable correlated very poor with the target variable and so I decided to omit it. For the month variable I used the one-hot encoding method to convert to numeric values. Moving on, I used linear regression, next I used step function and then followed by interaction variables, it finally fetched me a MAE of 12, previously it gave me a MAE of 18.5 which is much higher.\n",
    "- 2nd Model : For this model, I decided to omit spatial coordinates, month and the day, which by common sense cannot help us predict the area burned. Then I applied tranformations like log, tukley and box and cox for the significant variables like FFMC, DC,DMC, ISI and rain, and also since they were badly unbalanced or skewed. So, number of variables for prediction used were less as 8 and total 9 including the target variable.\n",
    "- 3rd Model : For this model, I used the same predictors from the second model and removed the 5 outliers that I noticed on plotting the 2nd model. The lambda used had a range -3 to +3. They performed poorly in comparison to the 2nd model."
   ]
  },
  {
   "cell_type": "markdown",
   "metadata": {},
   "source": [
    "## 6. Conclusion <a class=\"anchor\" id=\"sec_6\"></a>"
   ]
  },
  {
   "cell_type": "markdown",
   "metadata": {},
   "source": [
    "- In conclusion, I think that the second model with tranformations which gave so far the best MAE is the one I would use for predicting the area burned.\n",
    "- Adding to that, I believe the dataset is very biased to small area burned, if the question had asked to predict the small area burned then, I would have directly omitted the high burned area entries from the dataset, as they are very less in comparison to small area burned entries.\n",
    "- Right now, all the three models are sitting somewhere in middle of predicting large and small area burned. \n",
    "- The R2 values are pretty crazy and absurd there is no way in seeing an ideal accuracy anywhere above 60%."
   ]
  },
  {
   "cell_type": "markdown",
   "metadata": {},
   "source": [
    "## 7. References <a class=\"anchor\" id=\"sec_7\"></a>"
   ]
  },
  {
   "cell_type": "markdown",
   "metadata": {},
   "source": [
    "- http://www.sthda.com/english/articles/37-model-selection-essentials-in-r/153-penalized-regression-essentials-ridge-lasso-elastic-net/#ridge-regression\n",
    "- https://www.kaggle.com/sazack/forest-fire-burned-area-prediction\n",
    "- http://www.columbia.edu/~yh2693/ForestFire.html"
   ]
  }
 ],
 "metadata": {
  "kernelspec": {
   "display_name": "R",
   "language": "R",
   "name": "ir"
  },
  "language_info": {
   "codemirror_mode": "r",
   "file_extension": ".r",
   "mimetype": "text/x-r-source",
   "name": "R",
   "pygments_lexer": "r",
   "version": "3.6.1"
  }
 },
 "nbformat": 4,
 "nbformat_minor": 2
}
